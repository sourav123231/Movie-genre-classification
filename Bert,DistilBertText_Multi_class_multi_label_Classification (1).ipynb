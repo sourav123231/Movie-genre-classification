{
  "nbformat": 4,
  "nbformat_minor": 0,
  "metadata": {
    "accelerator": "GPU",
    "colab": {
      "provenance": [],
      "toc_visible": true
    },
    "kernelspec": {
      "display_name": "Python 3",
      "language": "python",
      "name": "python3"
    },
    "language_info": {
      "codemirror_mode": {
        "name": "ipython",
        "version": 3
      },
      "file_extension": ".py",
      "mimetype": "text/x-python",
      "name": "python",
      "nbconvert_exporter": "python",
      "pygments_lexer": "ipython3",
      "version": "3.5.2"
    },
    "widgets": {
      "application/vnd.jupyter.widget-state+json": {
        "d9ad7c7e333d4fcc92d5f41f07bb4322": {
          "model_module": "@jupyter-widgets/controls",
          "model_name": "HBoxModel",
          "state": {
            "_view_name": "HBoxView",
            "_dom_classes": [],
            "_model_name": "HBoxModel",
            "_view_module": "@jupyter-widgets/controls",
            "_model_module_version": "1.5.0",
            "_view_count": null,
            "_view_module_version": "1.5.0",
            "box_style": "",
            "layout": "IPY_MODEL_3bbbcd1dc4044a05b26167359bb11ec7",
            "_model_module": "@jupyter-widgets/controls",
            "children": [
              "IPY_MODEL_1d4ee056232f41368cb1680c8bbf85d5",
              "IPY_MODEL_37241ef6ab3c415e922a6570759c922c"
            ]
          },
          "model_module_version": "1.5.0"
        },
        "3bbbcd1dc4044a05b26167359bb11ec7": {
          "model_module": "@jupyter-widgets/base",
          "model_name": "LayoutModel",
          "state": {
            "_view_name": "LayoutView",
            "grid_template_rows": null,
            "right": null,
            "justify_content": null,
            "_view_module": "@jupyter-widgets/base",
            "overflow": null,
            "_model_module_version": "1.2.0",
            "_view_count": null,
            "flex_flow": null,
            "width": null,
            "min_width": null,
            "border": null,
            "align_items": null,
            "bottom": null,
            "_model_module": "@jupyter-widgets/base",
            "top": null,
            "grid_column": null,
            "overflow_y": null,
            "overflow_x": null,
            "grid_auto_flow": null,
            "grid_area": null,
            "grid_template_columns": null,
            "flex": null,
            "_model_name": "LayoutModel",
            "justify_items": null,
            "grid_row": null,
            "max_height": null,
            "align_content": null,
            "visibility": null,
            "align_self": null,
            "height": null,
            "min_height": null,
            "padding": null,
            "grid_auto_rows": null,
            "grid_gap": null,
            "max_width": null,
            "order": null,
            "_view_module_version": "1.2.0",
            "grid_template_areas": null,
            "object_position": null,
            "object_fit": null,
            "grid_auto_columns": null,
            "margin": null,
            "display": null,
            "left": null
          },
          "model_module_version": "1.2.0"
        },
        "1d4ee056232f41368cb1680c8bbf85d5": {
          "model_module": "@jupyter-widgets/controls",
          "model_name": "FloatProgressModel",
          "state": {
            "_view_name": "ProgressView",
            "style": "IPY_MODEL_0f25f3c299e3434ba426c99cf9ed0430",
            "_dom_classes": [],
            "description": "Downloading: 100%",
            "_model_name": "FloatProgressModel",
            "bar_style": "success",
            "max": 231508,
            "_view_module": "@jupyter-widgets/controls",
            "_model_module_version": "1.5.0",
            "value": 231508,
            "_view_count": null,
            "_view_module_version": "1.5.0",
            "orientation": "horizontal",
            "min": 0,
            "description_tooltip": null,
            "_model_module": "@jupyter-widgets/controls",
            "layout": "IPY_MODEL_3fcd8dd4b0fc4d84ab2dc606a4200d10"
          },
          "model_module_version": "1.5.0"
        },
        "37241ef6ab3c415e922a6570759c922c": {
          "model_module": "@jupyter-widgets/controls",
          "model_name": "HTMLModel",
          "state": {
            "_view_name": "HTMLView",
            "style": "IPY_MODEL_6416bc8d9894403da8eff5fa295a44ab",
            "_dom_classes": [],
            "description": "",
            "_model_name": "HTMLModel",
            "placeholder": "​",
            "_view_module": "@jupyter-widgets/controls",
            "_model_module_version": "1.5.0",
            "value": " 232k/232k [00:00&lt;00:00, 3.44MB/s]",
            "_view_count": null,
            "_view_module_version": "1.5.0",
            "description_tooltip": null,
            "_model_module": "@jupyter-widgets/controls",
            "layout": "IPY_MODEL_f0833bf1ff2e406294312621e7a2c133"
          },
          "model_module_version": "1.5.0"
        },
        "0f25f3c299e3434ba426c99cf9ed0430": {
          "model_module": "@jupyter-widgets/controls",
          "model_name": "ProgressStyleModel",
          "state": {
            "_view_name": "StyleView",
            "_model_name": "ProgressStyleModel",
            "description_width": "initial",
            "_view_module": "@jupyter-widgets/base",
            "_model_module_version": "1.5.0",
            "_view_count": null,
            "_view_module_version": "1.2.0",
            "bar_color": null,
            "_model_module": "@jupyter-widgets/controls"
          },
          "model_module_version": "1.5.0"
        },
        "3fcd8dd4b0fc4d84ab2dc606a4200d10": {
          "model_module": "@jupyter-widgets/base",
          "model_name": "LayoutModel",
          "state": {
            "_view_name": "LayoutView",
            "grid_template_rows": null,
            "right": null,
            "justify_content": null,
            "_view_module": "@jupyter-widgets/base",
            "overflow": null,
            "_model_module_version": "1.2.0",
            "_view_count": null,
            "flex_flow": null,
            "width": null,
            "min_width": null,
            "border": null,
            "align_items": null,
            "bottom": null,
            "_model_module": "@jupyter-widgets/base",
            "top": null,
            "grid_column": null,
            "overflow_y": null,
            "overflow_x": null,
            "grid_auto_flow": null,
            "grid_area": null,
            "grid_template_columns": null,
            "flex": null,
            "_model_name": "LayoutModel",
            "justify_items": null,
            "grid_row": null,
            "max_height": null,
            "align_content": null,
            "visibility": null,
            "align_self": null,
            "height": null,
            "min_height": null,
            "padding": null,
            "grid_auto_rows": null,
            "grid_gap": null,
            "max_width": null,
            "order": null,
            "_view_module_version": "1.2.0",
            "grid_template_areas": null,
            "object_position": null,
            "object_fit": null,
            "grid_auto_columns": null,
            "margin": null,
            "display": null,
            "left": null
          },
          "model_module_version": "1.2.0"
        },
        "6416bc8d9894403da8eff5fa295a44ab": {
          "model_module": "@jupyter-widgets/controls",
          "model_name": "DescriptionStyleModel",
          "state": {
            "_view_name": "StyleView",
            "_model_name": "DescriptionStyleModel",
            "description_width": "",
            "_view_module": "@jupyter-widgets/base",
            "_model_module_version": "1.5.0",
            "_view_count": null,
            "_view_module_version": "1.2.0",
            "_model_module": "@jupyter-widgets/controls"
          },
          "model_module_version": "1.5.0"
        },
        "f0833bf1ff2e406294312621e7a2c133": {
          "model_module": "@jupyter-widgets/base",
          "model_name": "LayoutModel",
          "state": {
            "_view_name": "LayoutView",
            "grid_template_rows": null,
            "right": null,
            "justify_content": null,
            "_view_module": "@jupyter-widgets/base",
            "overflow": null,
            "_model_module_version": "1.2.0",
            "_view_count": null,
            "flex_flow": null,
            "width": null,
            "min_width": null,
            "border": null,
            "align_items": null,
            "bottom": null,
            "_model_module": "@jupyter-widgets/base",
            "top": null,
            "grid_column": null,
            "overflow_y": null,
            "overflow_x": null,
            "grid_auto_flow": null,
            "grid_area": null,
            "grid_template_columns": null,
            "flex": null,
            "_model_name": "LayoutModel",
            "justify_items": null,
            "grid_row": null,
            "max_height": null,
            "align_content": null,
            "visibility": null,
            "align_self": null,
            "height": null,
            "min_height": null,
            "padding": null,
            "grid_auto_rows": null,
            "grid_gap": null,
            "max_width": null,
            "order": null,
            "_view_module_version": "1.2.0",
            "grid_template_areas": null,
            "object_position": null,
            "object_fit": null,
            "grid_auto_columns": null,
            "margin": null,
            "display": null,
            "left": null
          },
          "model_module_version": "1.2.0"
        }
      }
    }
  },
  "cells": [
    {
      "cell_type": "markdown",
      "metadata": {
        "id": "AsCSfoJzQ8Gx"
      },
      "source": [
        "# Text classification with Reuters-21578 datasets\n",
        "Downloaded the from reuters21578 data set first. https://archive.ics.uci.edu/ml/machine-learning-databases/reuters21578-mld/\n",
        "\n"
      ]
    },
    {
      "cell_type": "code",
      "metadata": {
        "colab": {
          "base_uri": "https://localhost:8080/"
        },
        "id": "-TCeBQN6Q8HA",
        "outputId": "255600d8-42c3-4007-c7b2-8a16f1d88832"
      },
      "source": [
        "%pylab inline"
      ],
      "execution_count": null,
      "outputs": [
        {
          "output_type": "stream",
          "text": [
            "Populating the interactive namespace from numpy and matplotlib\n"
          ],
          "name": "stdout"
        }
      ]
    },
    {
      "cell_type": "code",
      "metadata": {
        "colab": {
          "base_uri": "https://localhost:8080/"
        },
        "id": "5Nqa8iWCePBq",
        "outputId": "c31ab0a9-4233-4e95-83f7-dca0e38394f5"
      },
      "source": [
        "!pip install xml.sax.saxutils"
      ],
      "execution_count": null,
      "outputs": [
        {
          "output_type": "stream",
          "text": [
            "\u001b[31mERROR: Could not find a version that satisfies the requirement xml.sax.saxutils (from versions: none)\u001b[0m\n",
            "\u001b[31mERROR: No matching distribution found for xml.sax.saxutils\u001b[0m\n"
          ],
          "name": "stdout"
        }
      ]
    },
    {
      "cell_type": "code",
      "metadata": {
        "id": "pLb_ZzBeQ8HF"
      },
      "source": [
        "import re\n",
        "import xml.sax.saxutils as saxutils\n",
        "\n",
        "from bs4 import BeautifulSoup\n",
        "\n",
        "from keras.models import Sequential\n",
        "from keras.layers.embeddings import Embedding\n",
        "from keras.layers.recurrent import GRU\n",
        "from keras.preprocessing.text import Tokenizer\n",
        "from keras.preprocessing.sequence import pad_sequences\n",
        "from keras.layers import Dense\n",
        "\n",
        "from nltk.corpus import stopwords\n",
        "from nltk.tokenize import word_tokenize\n",
        "from nltk.stem import WordNetLemmatizer\n",
        "\n",
        "from pandas import DataFrame\n",
        "\n",
        "from random import random\n",
        "import numpy as np\n",
        "# Set Numpy random seed\n",
        "np.random.seed(1)"
      ],
      "execution_count": null,
      "outputs": []
    },
    {
      "cell_type": "code",
      "metadata": {
        "colab": {
          "base_uri": "https://localhost:8080/"
        },
        "id": "UEikPK-NaFPC",
        "outputId": "2c4fdcf0-db04-4514-c252-3ae237c1abd8"
      },
      "source": [
        "\n",
        "# import tarfile\n",
        "# import tarfile\n",
        "# import tarfile\n",
        "# import tarfile\n",
        "# import tarfile\n",
        "import tarfile\n",
        "my_tar = tarfile.open('reuters21578.tar.gz')\n",
        "my_tar.extractall('./my_folder')# specify which folder to extract to\n",
        "my_tar"
      ],
      "execution_count": null,
      "outputs": [
        {
          "output_type": "execute_result",
          "data": {
            "text/plain": [
              "<tarfile.TarFile at 0x7f76e0131630>"
            ]
          },
          "metadata": {
            "tags": []
          },
          "execution_count": 5
        }
      ]
    },
    {
      "cell_type": "markdown",
      "metadata": {
        "id": "JfSjzv-GQ8HG"
      },
      "source": [
        "### General constants (modify them according to you environment)"
      ]
    },
    {
      "cell_type": "code",
      "metadata": {
        "id": "kLkxBPtxSwhM"
      },
      "source": [
        "\n",
        "# TODO: download the dataset and change the data_folder to match with yours\n",
        "# Downloaded from https://archive.ics.uci.edu/ml/machine-learning-databases/reuters21578-mld/\n",
        "data_folder = './my_folder/'\n",
        "sgml_number_of_files = 22\n",
        "sgml_file_name_template = 'reut2-{}.sgm'\n",
        "\n",
        "# Category files\n",
        "category_files = {\n",
        "    'to_': ('Topics', 'all-topics-strings.lc.txt'),\n",
        "    'pl_': ('Places', 'all-places-strings.lc.txt'),\n",
        "    'pe_': ('People', 'all-people-strings.lc.txt'),\n",
        "    'or_': ('Organizations', 'all-orgs-strings.lc.txt'),\n",
        "    'ex_': ('Exchanges', 'all-exchanges-strings.lc.txt')\n",
        "}"
      ],
      "execution_count": null,
      "outputs": []
    },
    {
      "cell_type": "code",
      "metadata": {
        "id": "a8K6oFKNcnPF"
      },
      "source": [
        "\n",
        "\n"
      ],
      "execution_count": null,
      "outputs": []
    },
    {
      "cell_type": "markdown",
      "metadata": {
        "id": "E3agOFy1Q8HH"
      },
      "source": [
        "## Prepare documents and categories"
      ]
    },
    {
      "cell_type": "code",
      "metadata": {
        "collapsed": true,
        "id": "b3j_ln9WQ8HI",
        "scrolled": true
      },
      "source": [
        "# Read all categories\n",
        "category_data = []\n",
        "\n",
        "for category_prefix in category_files.keys():\n",
        "    with open(data_folder+category_files[category_prefix][1], 'r') as file:\n",
        "        for category in file.readlines():\n",
        "            category_data.append([category_prefix + category.strip().lower(), \n",
        "                                  category_files[category_prefix][0], \n",
        "                                  0])\n",
        "\n",
        "# Create category dataframe\n",
        "news_categories = DataFrame(data=category_data, columns=['Name', 'Type', 'Newslines'])"
      ],
      "execution_count": null,
      "outputs": []
    },
    {
      "cell_type": "code",
      "metadata": {
        "colab": {
          "base_uri": "https://localhost:8080/"
        },
        "id": "ba5yy-iHaqzE",
        "outputId": "3c152e45-78c0-4cb4-f8d8-b62142028a9b"
      },
      "source": [
        "news_categories.shape"
      ],
      "execution_count": null,
      "outputs": [
        {
          "output_type": "execute_result",
          "data": {
            "text/plain": [
              "(672, 3)"
            ]
          },
          "metadata": {
            "tags": []
          },
          "execution_count": 8
        }
      ]
    },
    {
      "cell_type": "code",
      "metadata": {
        "collapsed": true,
        "id": "Jf4vJQM1Q8HJ"
      },
      "source": [
        "def update_frequencies(categories):\n",
        "    for category in categories:\n",
        "        idx = news_categories[news_categories.Name == category].index[0]\n",
        "        f = news_categories._get_value(idx, 'Newslines')\n",
        "        news_categories._set_value(idx, 'Newslines', f+1)\n",
        "    \n",
        "def to_category_vector(categories, target_categories):\n",
        "    vector = zeros(len(target_categories)).astype(float32)\n",
        "    \n",
        "    for i in range(len(target_categories)):\n",
        "        if target_categories[i] in categories:\n",
        "            vector[i] = 1.0\n",
        "    \n",
        "    return vector"
      ],
      "execution_count": null,
      "outputs": []
    },
    {
      "cell_type": "code",
      "metadata": {
        "colab": {
          "base_uri": "https://localhost:8080/"
        },
        "id": "Eh9sATjkQ8HK",
        "outputId": "3b7f5d95-bafb-4b49-bf3b-171f7f64c396"
      },
      "source": [
        "# Those are the top 20 categories we will use for the classification\n",
        "selected_categories = ['pl_usa', 'to_earn', 'to_acq', 'pl_uk', 'pl_japan', 'pl_canada', 'to_money-fx',\n",
        " 'to_crude', 'to_grain', 'pl_west-germany', 'to_trade', 'to_interest',\n",
        " 'pl_france', 'or_ec', 'pl_brazil', 'to_wheat', 'to_ship', 'pl_australia',\n",
        " 'to_corn', 'pl_china']\n",
        "\n",
        "# Parse SGML files\n",
        "document_X = []\n",
        "document_Y = []\n",
        "\n",
        "def strip_tags(text):\n",
        "    return re.sub('<[^<]+?>', '', text).strip()\n",
        "\n",
        "def unescape(text):\n",
        "    return saxutils.unescape(text)\n",
        "\n",
        "# Iterate all files\n",
        "for i in range(sgml_number_of_files):\n",
        "    file_name = sgml_file_name_template.format(str(i).zfill(3))\n",
        "    print('Reading file: %s' % file_name)\n",
        "    \n",
        "    with open(data_folder+ file_name, 'rb') as file:\n",
        "        content = BeautifulSoup(file.read().lower(), \"lxml\")\n",
        "        \n",
        "        for newsline in content('reuters'):\n",
        "            document_categories = []\n",
        "            \n",
        "            # News-line Id\n",
        "            document_id = newsline['newid']\n",
        "            \n",
        "            # News-line text\n",
        "            document_body = strip_tags(str(newsline('text')[0].text)).replace('reuter\\n&#3;', '')\n",
        "            document_body = unescape(document_body)\n",
        "            \n",
        "            # News-line categories\n",
        "            topics = newsline.topics.contents\n",
        "            places = newsline.places.contents\n",
        "            people = newsline.people.contents\n",
        "            orgs = newsline.orgs.contents\n",
        "            exchanges = newsline.exchanges.contents\n",
        "            \n",
        "            for topic in topics:\n",
        "                document_categories.append('to_' + strip_tags(str(topic)))\n",
        "                \n",
        "            for place in places:\n",
        "                document_categories.append('pl_' + strip_tags(str(place)))\n",
        "                \n",
        "            for person in people:\n",
        "                document_categories.append('pe_' + strip_tags(str(person)))\n",
        "                \n",
        "            for org in orgs:\n",
        "                document_categories.append('or_' + strip_tags(str(org)))\n",
        "                \n",
        "            for exchange in exchanges:\n",
        "                document_categories.append('ex_' + strip_tags(str(exchange)))\n",
        "                \n",
        "            # Create new document    \n",
        "            update_frequencies(document_categories)\n",
        "            \n",
        "            document_X.append(document_body)\n",
        "            document_Y.append(to_category_vector(document_categories, selected_categories))"
      ],
      "execution_count": null,
      "outputs": [
        {
          "output_type": "stream",
          "text": [
            "Reading file: reut2-000.sgm\n",
            "Reading file: reut2-001.sgm\n",
            "Reading file: reut2-002.sgm\n",
            "Reading file: reut2-003.sgm\n",
            "Reading file: reut2-004.sgm\n",
            "Reading file: reut2-005.sgm\n",
            "Reading file: reut2-006.sgm\n",
            "Reading file: reut2-007.sgm\n",
            "Reading file: reut2-008.sgm\n",
            "Reading file: reut2-009.sgm\n",
            "Reading file: reut2-010.sgm\n",
            "Reading file: reut2-011.sgm\n",
            "Reading file: reut2-012.sgm\n",
            "Reading file: reut2-013.sgm\n",
            "Reading file: reut2-014.sgm\n",
            "Reading file: reut2-015.sgm\n",
            "Reading file: reut2-016.sgm\n",
            "Reading file: reut2-017.sgm\n",
            "Reading file: reut2-018.sgm\n",
            "Reading file: reut2-019.sgm\n",
            "Reading file: reut2-020.sgm\n",
            "Reading file: reut2-021.sgm\n"
          ],
          "name": "stdout"
        }
      ]
    },
    {
      "cell_type": "markdown",
      "metadata": {
        "id": "U6dLQvLlQ8HL"
      },
      "source": [
        "## Select top 20 categories (by number of newslines)"
      ]
    },
    {
      "cell_type": "markdown",
      "metadata": {
        "id": "bZBYyHjJFaY3"
      },
      "source": [
        "Read all the news files and find the most common 20 tags out of 672 we are going to use for classification. Here is a list those 20 tags. Each one is prefixed with its categories for clarity.\n",
        " For instance \"pl_usa\" means tag \"Places: USA\", \"to_trade\" is \"Topics: trade\" etc."
      ]
    },
    {
      "cell_type": "code",
      "metadata": {
        "colab": {
          "base_uri": "https://localhost:8080/",
          "height": 655
        },
        "id": "ft-mEOLzQ8HM",
        "outputId": "78c5eae8-b3a2-4066-e66d-20e3c49e4a33"
      },
      "source": [
        "news_categories.sort_values(by='Newslines', ascending=False, inplace=True)\n",
        "# Selected categories\n",
        "selected_categories = np.array(news_categories[\"Name\"].head())\n",
        "num_categories = 20\n",
        "news_categories.head(num_categories)"
      ],
      "execution_count": null,
      "outputs": [
        {
          "output_type": "execute_result",
          "data": {
            "text/html": [
              "<div>\n",
              "<style scoped>\n",
              "    .dataframe tbody tr th:only-of-type {\n",
              "        vertical-align: middle;\n",
              "    }\n",
              "\n",
              "    .dataframe tbody tr th {\n",
              "        vertical-align: top;\n",
              "    }\n",
              "\n",
              "    .dataframe thead th {\n",
              "        text-align: right;\n",
              "    }\n",
              "</style>\n",
              "<table border=\"1\" class=\"dataframe\">\n",
              "  <thead>\n",
              "    <tr style=\"text-align: right;\">\n",
              "      <th></th>\n",
              "      <th>Name</th>\n",
              "      <th>Type</th>\n",
              "      <th>Newslines</th>\n",
              "    </tr>\n",
              "  </thead>\n",
              "  <tbody>\n",
              "    <tr>\n",
              "      <th>296</th>\n",
              "      <td>pl_usa</td>\n",
              "      <td>Places</td>\n",
              "      <td>12542</td>\n",
              "    </tr>\n",
              "    <tr>\n",
              "      <th>35</th>\n",
              "      <td>to_earn</td>\n",
              "      <td>Topics</td>\n",
              "      <td>3987</td>\n",
              "    </tr>\n",
              "    <tr>\n",
              "      <th>0</th>\n",
              "      <td>to_acq</td>\n",
              "      <td>Topics</td>\n",
              "      <td>2448</td>\n",
              "    </tr>\n",
              "    <tr>\n",
              "      <th>293</th>\n",
              "      <td>pl_uk</td>\n",
              "      <td>Places</td>\n",
              "      <td>1489</td>\n",
              "    </tr>\n",
              "    <tr>\n",
              "      <th>219</th>\n",
              "      <td>pl_japan</td>\n",
              "      <td>Places</td>\n",
              "      <td>1138</td>\n",
              "    </tr>\n",
              "    <tr>\n",
              "      <th>166</th>\n",
              "      <td>pl_canada</td>\n",
              "      <td>Places</td>\n",
              "      <td>1104</td>\n",
              "    </tr>\n",
              "    <tr>\n",
              "      <th>73</th>\n",
              "      <td>to_money-fx</td>\n",
              "      <td>Topics</td>\n",
              "      <td>801</td>\n",
              "    </tr>\n",
              "    <tr>\n",
              "      <th>28</th>\n",
              "      <td>to_crude</td>\n",
              "      <td>Topics</td>\n",
              "      <td>634</td>\n",
              "    </tr>\n",
              "    <tr>\n",
              "      <th>45</th>\n",
              "      <td>to_grain</td>\n",
              "      <td>Topics</td>\n",
              "      <td>628</td>\n",
              "    </tr>\n",
              "    <tr>\n",
              "      <th>302</th>\n",
              "      <td>pl_west-germany</td>\n",
              "      <td>Places</td>\n",
              "      <td>567</td>\n",
              "    </tr>\n",
              "    <tr>\n",
              "      <th>126</th>\n",
              "      <td>to_trade</td>\n",
              "      <td>Topics</td>\n",
              "      <td>552</td>\n",
              "    </tr>\n",
              "    <tr>\n",
              "      <th>55</th>\n",
              "      <td>to_interest</td>\n",
              "      <td>Topics</td>\n",
              "      <td>513</td>\n",
              "    </tr>\n",
              "    <tr>\n",
              "      <th>191</th>\n",
              "      <td>pl_france</td>\n",
              "      <td>Places</td>\n",
              "      <td>469</td>\n",
              "    </tr>\n",
              "    <tr>\n",
              "      <th>587</th>\n",
              "      <td>or_ec</td>\n",
              "      <td>Organizations</td>\n",
              "      <td>349</td>\n",
              "    </tr>\n",
              "    <tr>\n",
              "      <th>158</th>\n",
              "      <td>pl_brazil</td>\n",
              "      <td>Places</td>\n",
              "      <td>332</td>\n",
              "    </tr>\n",
              "    <tr>\n",
              "      <th>130</th>\n",
              "      <td>to_wheat</td>\n",
              "      <td>Topics</td>\n",
              "      <td>306</td>\n",
              "    </tr>\n",
              "    <tr>\n",
              "      <th>108</th>\n",
              "      <td>to_ship</td>\n",
              "      <td>Topics</td>\n",
              "      <td>305</td>\n",
              "    </tr>\n",
              "    <tr>\n",
              "      <th>145</th>\n",
              "      <td>pl_australia</td>\n",
              "      <td>Places</td>\n",
              "      <td>270</td>\n",
              "    </tr>\n",
              "    <tr>\n",
              "      <th>19</th>\n",
              "      <td>to_corn</td>\n",
              "      <td>Topics</td>\n",
              "      <td>254</td>\n",
              "    </tr>\n",
              "    <tr>\n",
              "      <th>172</th>\n",
              "      <td>pl_china</td>\n",
              "      <td>Places</td>\n",
              "      <td>223</td>\n",
              "    </tr>\n",
              "  </tbody>\n",
              "</table>\n",
              "</div>"
            ],
            "text/plain": [
              "                Name           Type  Newslines\n",
              "296           pl_usa         Places      12542\n",
              "35           to_earn         Topics       3987\n",
              "0             to_acq         Topics       2448\n",
              "293            pl_uk         Places       1489\n",
              "219         pl_japan         Places       1138\n",
              "166        pl_canada         Places       1104\n",
              "73       to_money-fx         Topics        801\n",
              "28          to_crude         Topics        634\n",
              "45          to_grain         Topics        628\n",
              "302  pl_west-germany         Places        567\n",
              "126         to_trade         Topics        552\n",
              "55       to_interest         Topics        513\n",
              "191        pl_france         Places        469\n",
              "587            or_ec  Organizations        349\n",
              "158        pl_brazil         Places        332\n",
              "130         to_wheat         Topics        306\n",
              "108          to_ship         Topics        305\n",
              "145     pl_australia         Places        270\n",
              "19           to_corn         Topics        254\n",
              "172         pl_china         Places        223"
            ]
          },
          "metadata": {
            "tags": []
          },
          "execution_count": 11
        }
      ]
    },
    {
      "cell_type": "markdown",
      "metadata": {
        "id": "-1FihOHMQ8HN"
      },
      "source": [
        "### Take a look at the input and output data\n",
        "The output data **document_Y** looks good, it is a list of 20 (1 or 0) representing 20 categories.\n",
        "\n",
        "The input data still need to be cleaned up for the model input."
      ]
    },
    {
      "cell_type": "code",
      "metadata": {
        "id": "zuHS5E-iWk96"
      },
      "source": [
        "import pandas as pd"
      ],
      "execution_count": null,
      "outputs": []
    },
    {
      "cell_type": "code",
      "metadata": {
        "id": "1WdBFambWS-a"
      },
      "source": [
        "Y_val=pd.DataFrame(document_Y,columns= ['pl_usa', 'to_earn', 'to_acq', 'pl_uk', 'pl_japan', 'pl_canada', 'to_money-fx',\n",
        " 'to_crude', 'to_grain', 'pl_west-germany', 'to_trade', 'to_interest',\n",
        " 'pl_france', 'or_ec', 'pl_brazil', 'to_wheat', 'to_ship', 'pl_australia',\n",
        " 'to_corn', 'pl_china'])"
      ],
      "execution_count": null,
      "outputs": []
    },
    {
      "cell_type": "code",
      "metadata": {
        "colab": {
          "base_uri": "https://localhost:8080/"
        },
        "id": "aFTvUt9UQ8HN",
        "scrolled": true,
        "outputId": "2a1a1bce-f913-4caf-bb47-b548e9513e14"
      },
      "source": [
        "print(document_X[220])\n",
        "print(document_Y[220])"
      ],
      "execution_count": null,
      "outputs": [
        {
          "output_type": "stream",
          "text": [
            "average yen cd rates fall in latest week\n",
            "    tokyo, feb 27 - average interest rates on yen certificates\n",
            "of deposit, cd, fell to 4.27 pct in the week ended february 25\n",
            "from 4.32 pct the previous week, the bank of japan said.\n",
            "    new rates (previous in brackets), were -\n",
            "    average cd rates all banks 4.27 pct (4.32)\n",
            "    money market certificate, mmc, ceiling rates for the week\n",
            "starting from march 2          3.52 pct (3.57)\n",
            "    average cd rates of city, trust and long-term banks\n",
            "    less than 60 days          4.33 pct (4.32)\n",
            "    60-90 days                 4.13 pct (4.37)\n",
            "    average cd rates of city, trust and long-term banks\n",
            "    90-120 days             4.35 pct (4.30)\n",
            "    120-150 days            4.38 pct (4.29)\n",
            "    150-180 days            unquoted (unquoted)\n",
            "    180-270 days            3.67 pct (unquoted)\n",
            "    over 270 days           4.01 pct (unquoted)\n",
            "    average yen bankers' acceptance rates of city, trust and\n",
            "long-term banks\n",
            "    30 to less than 60 days unquoted (4.13)\n",
            "    60-90 days              unquoted (unquoted)\n",
            "    90-120 days             unquoted (unquoted)\n",
            " reuter\n",
            "[0. 0. 0. 0. 1. 0. 1. 0. 0. 0. 0. 1. 0. 0. 0. 0. 0. 0. 0. 0.]\n"
          ],
          "name": "stdout"
        }
      ]
    },
    {
      "cell_type": "markdown",
      "metadata": {
        "id": "JHwwIBcHQ8HO"
      },
      "source": [
        "## Clean up the data\n",
        "Function to clean up data\n",
        "* Only take characters inside A-Za-z0-9\n",
        "* remove stop words\n",
        "* lemmatize"
      ]
    },
    {
      "cell_type": "code",
      "metadata": {
        "colab": {
          "base_uri": "https://localhost:8080/"
        },
        "id": "TZ0S3N2ChtSg",
        "outputId": "da718f24-162c-46f3-93ae-217d09176c00"
      },
      "source": [
        "!pip install nltk\n",
        "import nltk\n",
        "nltk.download(\"stopwords\")\n",
        "import nltk\n",
        "nltk.download('punkt')\n",
        "nltk.download('wordnet')"
      ],
      "execution_count": null,
      "outputs": [
        {
          "output_type": "stream",
          "text": [
            "Requirement already satisfied: nltk in /usr/local/lib/python3.6/dist-packages (3.2.5)\n",
            "Requirement already satisfied: six in /usr/local/lib/python3.6/dist-packages (from nltk) (1.15.0)\n",
            "[nltk_data] Downloading package stopwords to /root/nltk_data...\n",
            "[nltk_data]   Package stopwords is already up-to-date!\n",
            "[nltk_data] Downloading package punkt to /root/nltk_data...\n",
            "[nltk_data]   Package punkt is already up-to-date!\n",
            "[nltk_data] Downloading package wordnet to /root/nltk_data...\n",
            "[nltk_data]   Package wordnet is already up-to-date!\n"
          ],
          "name": "stdout"
        },
        {
          "output_type": "execute_result",
          "data": {
            "text/plain": [
              "True"
            ]
          },
          "metadata": {
            "tags": []
          },
          "execution_count": 16
        }
      ]
    },
    {
      "cell_type": "code",
      "metadata": {
        "collapsed": true,
        "id": "hu8b15qCQ8HO"
      },
      "source": [
        "lemmatizer = WordNetLemmatizer()\n",
        "strip_special_chars = re.compile(\"[^A-Za-z0-9 ]+\")\n",
        "stop_words = set(stopwords.words(\"english\"))\n",
        "\n",
        "def cleanUpSentence(r, stop_words = None):\n",
        "    r = r.lower().replace(\"<br />\", \" \")\n",
        "    r = re.sub(strip_special_chars, \"\", r.lower())\n",
        "    if stop_words is not None:\n",
        "        words = word_tokenize(r)\n",
        "        filtered_sentence = []\n",
        "        for w in words:\n",
        "            w = lemmatizer.lemmatize(w)\n",
        "            if w not in stop_words:\n",
        "                filtered_sentence.append(w)\n",
        "        return \" \".join(filtered_sentence)\n",
        "    else:\n",
        "        return r"
      ],
      "execution_count": null,
      "outputs": []
    },
    {
      "cell_type": "markdown",
      "metadata": {
        "id": "G5h_cCpxQ8HQ"
      },
      "source": [
        "### Here we are cleaning up the data"
      ]
    },
    {
      "cell_type": "code",
      "metadata": {
        "id": "27_mQaprQ8HQ"
      },
      "source": [
        "totalX = []\n",
        "totalY = np.array(document_Y)\n",
        "for i, doc in enumerate(document_X):\n",
        "    totalX.append(cleanUpSentence(doc, stop_words))\n"
      ],
      "execution_count": null,
      "outputs": []
    },
    {
      "cell_type": "code",
      "metadata": {
        "id": "Y-SKib48iai_"
      },
      "source": [],
      "execution_count": null,
      "outputs": []
    },
    {
      "cell_type": "markdown",
      "metadata": {
        "id": "xQKGovVsQ8HR"
      },
      "source": [
        "### Take a look at the input and output data now\n",
        "The input data looks clean and ready to be turned to ids"
      ]
    },
    {
      "cell_type": "code",
      "metadata": {
        "colab": {
          "base_uri": "https://localhost:8080/"
        },
        "id": "wOHMNM87Q8HR",
        "scrolled": true,
        "outputId": "e471d69e-df23-44bc-a17c-24947882b414"
      },
      "source": [
        "print(totalX[220])\n",
        "print(totalY[220])"
      ],
      "execution_count": null,
      "outputs": [
        {
          "output_type": "stream",
          "text": [
            "average yen cd rate fall latest week tokyo feb 27 average interest rate yen certificatesof deposit cd fell 427 pct week ended february 25from 432 pct previous week bank japan said new rate previous bracket average cd rate bank 427 pct 432 money market certificate mmc ceiling rate weekstarting march 2 352 pct 357 average cd rate city trust longterm bank le 60 day 433 pct 432 6090 day 413 pct 437 average cd rate city trust longterm bank 90120 day 435 pct 430 120150 day 438 pct 429 150180 day unquoted unquoted 180270 day 367 pct unquoted 270 day 401 pct unquoted average yen banker acceptance rate city trust andlongterm bank 30 le 60 day unquoted 413 6090 day unquoted unquoted 90120 day unquoted unquoted reuter\n",
            "[0. 0. 0. 0. 1. 0. 1. 0. 0. 0. 0. 1. 0. 0. 0. 0. 0. 0. 0. 0.]\n"
          ],
          "name": "stdout"
        }
      ]
    },
    {
      "cell_type": "markdown",
      "metadata": {
        "id": "npnrD3kOQ8HS"
      },
      "source": [
        "## Show input max sequence length\n",
        "\n",
        "Since a small portation of news are quite long even after the cleanup, let's set a limit to the maximum input sequence to 88 words, this will cover up 85% of all news in full length. We could have set a larger input sequence limit to cover more news but that will also increase the model training time.\n",
        "\n",
        "Lastly, we will turn words into the form of ids and pad the sequence to input limit (138\n",
        ") if it is shorter."
      ]
    },
    {
      "cell_type": "code",
      "metadata": {
        "colab": {
          "base_uri": "https://localhost:8080/"
        },
        "id": "7SAiSN5ZQ8HS",
        "outputId": "5ef2e653-8d07-4e00-b5d8-8786e965bce2"
      },
      "source": [
        "xLengths = [len(word_tokenize(x)) for x in totalX]\n",
        "h = sorted(xLengths)  #sorted lengths\n",
        "maxLength =h[len(h)-1]\n",
        "print(\"max input length is: \",maxLength)"
      ],
      "execution_count": null,
      "outputs": [
        {
          "output_type": "stream",
          "text": [
            "max input length is:  1500\n"
          ],
          "name": "stdout"
        }
      ]
    },
    {
      "cell_type": "code",
      "metadata": {
        "id": "otyrq-tUJbuy"
      },
      "source": [],
      "execution_count": null,
      "outputs": []
    },
    {
      "cell_type": "markdown",
      "metadata": {
        "id": "cA1pRFbuQ8HT"
      },
      "source": [
        "### Choose a smaller max length for input sequence to reduce the training time"
      ]
    },
    {
      "cell_type": "code",
      "metadata": {
        "colab": {
          "base_uri": "https://localhost:8080/"
        },
        "id": "bmRy4_MiQ8HU",
        "outputId": "ef518065-2fbc-4aa7-f7bb-4f875d8a885d"
      },
      "source": [
        "maxLength = h[int(len(h) * 0.85)]\n",
        "print(\"85% cover input sequence length up to\",maxLength)"
      ],
      "execution_count": null,
      "outputs": [
        {
          "output_type": "stream",
          "text": [
            "85% cover input sequence length up to 138\n"
          ],
          "name": "stdout"
        }
      ]
    },
    {
      "cell_type": "code",
      "metadata": {
        "colab": {
          "base_uri": "https://localhost:8080/"
        },
        "id": "yQ19uKaLaUCq",
        "outputId": "b2216c04-ee3e-4063-f57e-d94738269b62"
      },
      "source": [
        "!pip install transformers"
      ],
      "execution_count": null,
      "outputs": [
        {
          "output_type": "stream",
          "text": [
            "Requirement already satisfied: transformers in /usr/local/lib/python3.6/dist-packages (4.2.2)\n",
            "Requirement already satisfied: importlib-metadata; python_version < \"3.8\" in /usr/local/lib/python3.6/dist-packages (from transformers) (3.3.0)\n",
            "Requirement already satisfied: tqdm>=4.27 in /usr/local/lib/python3.6/dist-packages (from transformers) (4.41.1)\n",
            "Requirement already satisfied: requests in /usr/local/lib/python3.6/dist-packages (from transformers) (2.23.0)\n",
            "Requirement already satisfied: numpy in /usr/local/lib/python3.6/dist-packages (from transformers) (1.19.5)\n",
            "Requirement already satisfied: filelock in /usr/local/lib/python3.6/dist-packages (from transformers) (3.0.12)\n",
            "Requirement already satisfied: sacremoses in /usr/local/lib/python3.6/dist-packages (from transformers) (0.0.43)\n",
            "Requirement already satisfied: packaging in /usr/local/lib/python3.6/dist-packages (from transformers) (20.8)\n",
            "Requirement already satisfied: dataclasses; python_version < \"3.7\" in /usr/local/lib/python3.6/dist-packages (from transformers) (0.8)\n",
            "Requirement already satisfied: tokenizers==0.9.4 in /usr/local/lib/python3.6/dist-packages (from transformers) (0.9.4)\n",
            "Requirement already satisfied: regex!=2019.12.17 in /usr/local/lib/python3.6/dist-packages (from transformers) (2019.12.20)\n",
            "Requirement already satisfied: typing-extensions>=3.6.4; python_version < \"3.8\" in /usr/local/lib/python3.6/dist-packages (from importlib-metadata; python_version < \"3.8\"->transformers) (3.7.4.3)\n",
            "Requirement already satisfied: zipp>=0.5 in /usr/local/lib/python3.6/dist-packages (from importlib-metadata; python_version < \"3.8\"->transformers) (3.4.0)\n",
            "Requirement already satisfied: chardet<4,>=3.0.2 in /usr/local/lib/python3.6/dist-packages (from requests->transformers) (3.0.4)\n",
            "Requirement already satisfied: certifi>=2017.4.17 in /usr/local/lib/python3.6/dist-packages (from requests->transformers) (2020.12.5)\n",
            "Requirement already satisfied: idna<3,>=2.5 in /usr/local/lib/python3.6/dist-packages (from requests->transformers) (2.10)\n",
            "Requirement already satisfied: urllib3!=1.25.0,!=1.25.1,<1.26,>=1.21.1 in /usr/local/lib/python3.6/dist-packages (from requests->transformers) (1.24.3)\n",
            "Requirement already satisfied: joblib in /usr/local/lib/python3.6/dist-packages (from sacremoses->transformers) (1.0.0)\n",
            "Requirement already satisfied: click in /usr/local/lib/python3.6/dist-packages (from sacremoses->transformers) (7.1.2)\n",
            "Requirement already satisfied: six in /usr/local/lib/python3.6/dist-packages (from sacremoses->transformers) (1.15.0)\n",
            "Requirement already satisfied: pyparsing>=2.0.2 in /usr/local/lib/python3.6/dist-packages (from packaging->transformers) (2.4.7)\n"
          ],
          "name": "stdout"
        }
      ]
    },
    {
      "cell_type": "code",
      "metadata": {
        "id": "BQ8BUzttcHdT"
      },
      "source": [],
      "execution_count": null,
      "outputs": []
    },
    {
      "cell_type": "code",
      "metadata": {
        "id": "oy18o80_aY6w"
      },
      "source": [
        "import tensorflow as tf\n",
        "import matplotlib.pyplot as plt\n",
        "from tensorflow.keras.utils import plot_model\n",
        "import matplotlib.pyplot as plt\n",
        "from transformers import BertTokenizer\n",
        "from transformers import TFBertModel\n",
        "from sklearn.metrics import f1_score"
      ],
      "execution_count": null,
      "outputs": []
    },
    {
      "cell_type": "code",
      "metadata": {
        "id": "jkJ32BwGeUY6"
      },
      "source": [],
      "execution_count": null,
      "outputs": []
    },
    {
      "cell_type": "code",
      "metadata": {
        "id": "EP2DQb7qcIF8"
      },
      "source": [],
      "execution_count": null,
      "outputs": []
    },
    {
      "cell_type": "markdown",
      "metadata": {
        "id": "XVjts5MfbXuT"
      },
      "source": [
        "**BertModel**"
      ]
    },
    {
      "cell_type": "markdown",
      "metadata": {
        "id": "BOZt3ncHWCWL"
      },
      "source": [
        "# Bert Tokenizer"
      ]
    },
    {
      "cell_type": "code",
      "metadata": {
        "id": "IBcT__mWNL_H",
        "colab": {
          "base_uri": "https://localhost:8080/",
          "height": 67,
          "referenced_widgets": [
            "d9ad7c7e333d4fcc92d5f41f07bb4322",
            "3bbbcd1dc4044a05b26167359bb11ec7",
            "1d4ee056232f41368cb1680c8bbf85d5",
            "37241ef6ab3c415e922a6570759c922c",
            "0f25f3c299e3434ba426c99cf9ed0430",
            "3fcd8dd4b0fc4d84ab2dc606a4200d10",
            "6416bc8d9894403da8eff5fa295a44ab",
            "f0833bf1ff2e406294312621e7a2c133"
          ]
        },
        "outputId": "5ed960df-3854-4967-944e-90095d979374"
      },
      "source": [
        "# tokenization\n",
        "bert_tokenizer = BertTokenizer.from_pretrained('bert-base-uncased', do_lower_case=True)"
      ],
      "execution_count": null,
      "outputs": [
        {
          "output_type": "display_data",
          "data": {
            "application/vnd.jupyter.widget-view+json": {
              "model_id": "d9ad7c7e333d4fcc92d5f41f07bb4322",
              "version_minor": 0,
              "version_major": 2
            },
            "text/plain": [
              "HBox(children=(FloatProgress(value=0.0, description='Downloading', max=231508.0, style=ProgressStyle(descripti…"
            ]
          },
          "metadata": {
            "tags": []
          }
        },
        {
          "output_type": "stream",
          "text": [
            "\n"
          ],
          "name": "stdout"
        }
      ]
    },
    {
      "cell_type": "code",
      "metadata": {
        "id": "eYqZ8ORnZsIl"
      },
      "source": [
        "def bert_encode(data) :\n",
        "    input_ids = []\n",
        "    attention_masks = []\n",
        "  \n",
        "\n",
        "    for i in range(len(data)):\n",
        "        encoded = bert_tokenizer.encode_plus(\n",
        "        totalX[i],\n",
        "        add_special_tokens=True,\n",
        "        max_length=140,\n",
        "        pad_to_max_length=True,\n",
        "        truncation = True,\n",
        "        return_attention_mask=True)\n",
        "      \n",
        "        input_ids.append(encoded['input_ids'])\n",
        "        attention_masks.append(encoded['attention_mask'])\n",
        "\n",
        "    return np.array(input_ids),np.array(attention_masks)"
      ],
      "execution_count": null,
      "outputs": []
    },
    {
      "cell_type": "markdown",
      "metadata": {
        "id": "JXabmwwcWHPa"
      },
      "source": [
        "#  Bert_architecture"
      ]
    },
    {
      "cell_type": "code",
      "metadata": {
        "id": "EbMGyQmEPQ7w"
      },
      "source": [
        "from keras import backend as K\n",
        "\n",
        "def recall_m(y_true, y_pred):\n",
        "    true_positives = K.sum(K.round(K.clip(y_true * y_pred, 0, 1)))\n",
        "    possible_positives = K.sum(K.round(K.clip(y_true, 0, 1)))\n",
        "    recall = true_positives / (possible_positives + K.epsilon())\n",
        "    return recall\n",
        "\n",
        "def precision_m(y_true, y_pred):\n",
        "    true_positives = K.sum(K.round(K.clip(y_true * y_pred, 0, 1)))\n",
        "    predicted_positives = K.sum(K.round(K.clip(y_pred, 0, 1)))\n",
        "    precision = true_positives / (predicted_positives + K.epsilon())\n",
        "    return precision\n",
        "\n",
        "def f1_m(y_true, y_pred):\n",
        "    precision = precision_m(y_true, y_pred)\n",
        "    recall = recall_m(y_true, y_pred)\n",
        "    return 2*((precision*recall)/(precision+recall+K.epsilon()))"
      ],
      "execution_count": null,
      "outputs": []
    },
    {
      "cell_type": "code",
      "metadata": {
        "id": "u4-YWhTGaYC9"
      },
      "source": [
        "# Bert architecture\n",
        "def create_bert_model(bert_model,genres):\n",
        "    input_ids = tf.keras.Input(shape=(140,),dtype='int32')\n",
        "    attention_masks = tf.keras.Input(shape=(140,),dtype='int32')\n",
        "\n",
        "    \n",
        "    output = bert_model([input_ids,attention_masks])\n",
        "    output = output[1]\n",
        "\n",
        "    output = tf.keras.layers.Dropout(0.4)(output)\n",
        "    output = tf.keras.layers.Dense(100,activation='relu')(output)\n",
        "\n",
        "    output = tf.keras.layers.Dropout(0.3)(output)\n",
        "    output = tf.keras.layers.Dense(100,activation='relu')(output)\n",
        "    output = tf.keras.layers.Dropout(0.4)(output)\n",
        "\n",
        "    output = tf.keras.layers.Dense(genres,activation='sigmoid')(output)\n",
        "    model = tf.keras.models.Model(inputs = [input_ids,attention_masks],outputs = output)\n",
        "    model.compile(tf.keras.optimizers.Adam(learning_rate=3e-05), loss='binary_crossentropy', metrics=[\"accuracy\",tf.keras.metrics.Precision(name='precision'),f1_m])\n",
        "    return model"
      ],
      "execution_count": null,
      "outputs": []
    },
    {
      "cell_type": "markdown",
      "metadata": {
        "id": "NGpW7EpMWNJg"
      },
      "source": [
        "## Bert_model"
      ]
    },
    {
      "cell_type": "code",
      "metadata": {
        "colab": {
          "base_uri": "https://localhost:8080/"
        },
        "id": "xgcd0fAyZsLX",
        "outputId": "b4aa95c5-31ed-4995-cd66-fd60f28f3ce3"
      },
      "source": [
        "# bert model\n",
        "bertmodel = create_bert_model(TFBertModel.from_pretrained('bert-base-uncased'),20)\n",
        "bertmodel.summary()"
      ],
      "execution_count": null,
      "outputs": [
        {
          "output_type": "stream",
          "text": [
            "Some layers from the model checkpoint at bert-base-uncased were not used when initializing TFBertModel: ['nsp___cls', 'mlm___cls']\n",
            "- This IS expected if you are initializing TFBertModel from the checkpoint of a model trained on another task or with another architecture (e.g. initializing a BertForSequenceClassification model from a BertForPreTraining model).\n",
            "- This IS NOT expected if you are initializing TFBertModel from the checkpoint of a model that you expect to be exactly identical (initializing a BertForSequenceClassification model from a BertForSequenceClassification model).\n",
            "All the layers of TFBertModel were initialized from the model checkpoint at bert-base-uncased.\n",
            "If your task is similar to the task the model of the checkpoint was trained on, you can already use TFBertModel for predictions without further training.\n"
          ],
          "name": "stderr"
        },
        {
          "output_type": "stream",
          "text": [
            "WARNING:tensorflow:AutoGraph could not transform <bound method Socket.send of <zmq.sugar.socket.Socket object at 0x7fee96efe590>> and will run it as-is.\n",
            "Please report this to the TensorFlow team. When filing the bug, set the verbosity to 10 (on Linux, `export AUTOGRAPH_VERBOSITY=10`) and attach the full output.\n",
            "Cause: <cyfunction Socket.send at 0x7feeb48a4d90> is not a module, class, method, function, traceback, frame, or code object\n",
            "To silence this warning, decorate the function with @tf.autograph.experimental.do_not_convert\n",
            "WARNING: AutoGraph could not transform <bound method Socket.send of <zmq.sugar.socket.Socket object at 0x7fee96efe590>> and will run it as-is.\n",
            "Please report this to the TensorFlow team. When filing the bug, set the verbosity to 10 (on Linux, `export AUTOGRAPH_VERBOSITY=10`) and attach the full output.\n",
            "Cause: <cyfunction Socket.send at 0x7feeb48a4d90> is not a module, class, method, function, traceback, frame, or code object\n",
            "To silence this warning, decorate the function with @tf.autograph.experimental.do_not_convert\n"
          ],
          "name": "stdout"
        },
        {
          "output_type": "stream",
          "text": [
            "The parameters `output_attentions`, `output_hidden_states` and `use_cache` cannot be updated when calling a model.They have to be set to True/False in the config object (i.e.: `config=XConfig.from_pretrained('name', output_attentions=True)`).\n"
          ],
          "name": "stderr"
        },
        {
          "output_type": "stream",
          "text": [
            "WARNING:tensorflow:AutoGraph could not transform <function wrap at 0x7feeb22319d8> and will run it as-is.\n",
            "Cause: while/else statement not yet supported\n",
            "To silence this warning, decorate the function with @tf.autograph.experimental.do_not_convert\n"
          ],
          "name": "stdout"
        },
        {
          "output_type": "stream",
          "text": [
            "The parameter `return_dict` cannot be set in graph mode and will always be set to `True`.\n"
          ],
          "name": "stderr"
        },
        {
          "output_type": "stream",
          "text": [
            "WARNING: AutoGraph could not transform <function wrap at 0x7feeb22319d8> and will run it as-is.\n",
            "Cause: while/else statement not yet supported\n",
            "To silence this warning, decorate the function with @tf.autograph.experimental.do_not_convert\n",
            "Model: \"model\"\n",
            "__________________________________________________________________________________________________\n",
            "Layer (type)                    Output Shape         Param #     Connected to                     \n",
            "==================================================================================================\n",
            "input_1 (InputLayer)            [(None, 140)]        0                                            \n",
            "__________________________________________________________________________________________________\n",
            "input_2 (InputLayer)            [(None, 140)]        0                                            \n",
            "__________________________________________________________________________________________________\n",
            "tf_bert_model_1 (TFBertModel)   TFBaseModelOutputWit 109482240   input_1[0][0]                    \n",
            "                                                                 input_2[0][0]                    \n",
            "__________________________________________________________________________________________________\n",
            "dropout_74 (Dropout)            (None, 768)          0           tf_bert_model_1[0][1]            \n",
            "__________________________________________________________________________________________________\n",
            "dense (Dense)                   (None, 100)          76900       dropout_74[0][0]                 \n",
            "__________________________________________________________________________________________________\n",
            "dropout_75 (Dropout)            (None, 100)          0           dense[0][0]                      \n",
            "__________________________________________________________________________________________________\n",
            "dense_1 (Dense)                 (None, 100)          10100       dropout_75[0][0]                 \n",
            "__________________________________________________________________________________________________\n",
            "dropout_76 (Dropout)            (None, 100)          0           dense_1[0][0]                    \n",
            "__________________________________________________________________________________________________\n",
            "dense_2 (Dense)                 (None, 20)           2020        dropout_76[0][0]                 \n",
            "==================================================================================================\n",
            "Total params: 109,571,260\n",
            "Trainable params: 109,571,260\n",
            "Non-trainable params: 0\n",
            "__________________________________________________________________________________________________\n"
          ],
          "name": "stdout"
        }
      ]
    },
    {
      "cell_type": "code",
      "metadata": {
        "colab": {
          "base_uri": "https://localhost:8080/",
          "height": 601
        },
        "id": "R3GnOB3DZsPA",
        "outputId": "683e668f-11d3-432b-d941-0c0b6d8ee594"
      },
      "source": [
        "plot_model(bertmodel, to_file='model.png', expand_nested=True, show_shapes=True)"
      ],
      "execution_count": null,
      "outputs": [
        {
          "output_type": "execute_result",
          "data": {
            "image/png": "[encoded data removed]",
            "text/plain": [
              "<IPython.core.display.Image object>"
            ]
          },
          "metadata": {
            "tags": []
          },
          "execution_count": 33
        }
      ]
    },
    {
      "cell_type": "code",
      "metadata": {
        "colab": {
          "base_uri": "https://localhost:8080/"
        },
        "id": "tpZgSHhzZsSj",
        "outputId": "1cf1fee0-127f-4535-8959-1bc46ff420d2"
      },
      "source": [
        "type(totalX)"
      ],
      "execution_count": null,
      "outputs": [
        {
          "output_type": "execute_result",
          "data": {
            "text/plain": [
              "list"
            ]
          },
          "metadata": {
            "tags": []
          },
          "execution_count": 34
        }
      ]
    },
    {
      "cell_type": "code",
      "metadata": {
        "colab": {
          "base_uri": "https://localhost:8080/"
        },
        "id": "Z3XESEauOsN6",
        "outputId": "6770731e-2369-43d3-8d8e-d31f859e996b"
      },
      "source": [
        "train_input_ids,train_attention_masks = bert_encode(totalX)"
      ],
      "execution_count": null,
      "outputs": [
        {
          "output_type": "stream",
          "text": [
            "/usr/local/lib/python3.6/dist-packages/transformers/tokenization_utils_base.py:2143: FutureWarning: The `pad_to_max_length` argument is deprecated and will be removed in a future version, use `padding=True` or `padding='longest'` to pad to the longest sequence in the batch, or use `padding='max_length'` to pad to a max length. In this case, you can give a specific length with `max_length` (e.g. `max_length=45`) or leave max_length to None to pad to the maximal input size of the model (e.g. 512 for Bert).\n",
            "  FutureWarning,\n"
          ],
          "name": "stderr"
        }
      ]
    },
    {
      "cell_type": "code",
      "metadata": {
        "colab": {
          "base_uri": "https://localhost:8080/"
        },
        "id": "o3RfxTZldZcS",
        "outputId": "e15e84ef-9974-43a9-a08f-6089437e3898"
      },
      "source": [
        "print(train_input_ids.shape)\n",
        "print(train_attention_masks.shape)\n",
        "print(totalY.shape)"
      ],
      "execution_count": null,
      "outputs": [
        {
          "output_type": "stream",
          "text": [
            "(21578, 140)\n",
            "(21578, 140)\n",
            "(21578, 20)\n"
          ],
          "name": "stdout"
        }
      ]
    },
    {
      "cell_type": "markdown",
      "metadata": {
        "id": "qN5oaT14WTz0"
      },
      "source": [
        "## Fit Data In Model"
      ]
    },
    {
      "cell_type": "code",
      "metadata": {
        "colab": {
          "base_uri": "https://localhost:8080/"
        },
        "id": "gr-rgUL9ZsVY",
        "outputId": "f73fbdac-5689-4f16-cab4-4ba725c0dc6c"
      },
      "source": [
        "history = bertmodel.fit([train_input_ids,train_attention_masks],totalY,validation_split = 0.2 , epochs=4,batch_size=32)"
      ],
      "execution_count": null,
      "outputs": [
        {
          "output_type": "stream",
          "text": [
            "The parameters `output_attentions`, `output_hidden_states` and `use_cache` cannot be updated when calling a model.They have to be set to True/False in the config object (i.e.: `config=XConfig.from_pretrained('name', output_attentions=True)`).\n",
            "The parameter `return_dict` cannot be set in graph mode and will always be set to `True`.\n"
          ],
          "name": "stderr"
        },
        {
          "output_type": "stream",
          "text": [
            "Epoch 1/4\n"
          ],
          "name": "stdout"
        },
        {
          "output_type": "stream",
          "text": [
            "The parameters `output_attentions`, `output_hidden_states` and `use_cache` cannot be updated when calling a model.They have to be set to True/False in the config object (i.e.: `config=XConfig.from_pretrained('name', output_attentions=True)`).\n",
            "The parameter `return_dict` cannot be set in graph mode and will always be set to `True`.\n"
          ],
          "name": "stderr"
        },
        {
          "output_type": "stream",
          "text": [
            "540/540 [==============================] - ETA: 0s - loss: 0.4939 - accuracy: 0.1901 - precision: 0.1309 - f1_m: 0.2118"
          ],
          "name": "stdout"
        },
        {
          "output_type": "stream",
          "text": [
            "The parameters `output_attentions`, `output_hidden_states` and `use_cache` cannot be updated when calling a model.They have to be set to True/False in the config object (i.e.: `config=XConfig.from_pretrained('name', output_attentions=True)`).\n",
            "The parameter `return_dict` cannot be set in graph mode and will always be set to `True`.\n"
          ],
          "name": "stderr"
        },
        {
          "output_type": "stream",
          "text": [
            "\b\b\b\b\b\b\b\b\b\b\b\b\b\b\b\b\b\b\b\b\b\b\b\b\b\b\b\b\b\b\b\b\b\b\b\b\b\b\b\b\b\b\b\b\b\b\b\b\b\b\b\b\b\b\b\b\b\b\b\b\b\b\b\b\b\b\b\b\b\b\b\b\b\b\b\b\b\b\b\b\b\b\b\b\b\b\b\b\b\b\b\b\b\b\b\b\b\b\b\b\b\b\b\b\b\b\b\b\b\b\b\b\b\b\b\b\b\b\b\r540/540 [==============================] - 594s 1s/step - loss: 0.4937 - accuracy: 0.1904 - precision: 0.1310 - f1_m: 0.2120 - val_loss: 0.1118 - val_accuracy: 0.7331 - val_precision: 0.8539 - val_f1_m: 0.7609\n",
            "Epoch 2/4\n",
            "540/540 [==============================] - 591s 1s/step - loss: 0.2088 - accuracy: 0.5137 - precision: 0.4491 - f1_m: 0.5100 - val_loss: 0.0748 - val_accuracy: 0.8408 - val_precision: 0.8420 - val_f1_m: 0.7967\n",
            "Epoch 3/4\n",
            "540/540 [==============================] - 592s 1s/step - loss: 0.1327 - accuracy: 0.6045 - precision: 0.6520 - f1_m: 0.6654 - val_loss: 0.0742 - val_accuracy: 0.8239 - val_precision: 0.8437 - val_f1_m: 0.8105\n",
            "Epoch 4/4\n",
            "540/540 [==============================] - 595s 1s/step - loss: 0.0994 - accuracy: 0.6462 - precision: 0.7618 - f1_m: 0.7474 - val_loss: 0.0673 - val_accuracy: 0.8441 - val_precision: 0.8491 - val_f1_m: 0.8480\n"
          ],
          "name": "stdout"
        }
      ]
    },
    {
      "cell_type": "code",
      "metadata": {
        "colab": {
          "background_save": true
        },
        "id": "jLQfDDqWZsYm"
      },
      "source": [],
      "execution_count": null,
      "outputs": []
    },
    {
      "cell_type": "code",
      "metadata": {
        "colab": {
          "base_uri": "https://localhost:8080/"
        },
        "id": "UZYE2nf0Zsbu",
        "outputId": "6f308d63-020e-41e7-f5ae-06e05a4de310"
      },
      "source": [
        "history.history[\"loss\"]"
      ],
      "execution_count": null,
      "outputs": [
        {
          "output_type": "execute_result",
          "data": {
            "text/plain": [
              "[0.3781179189682007,\n",
              " 0.1842132955789566,\n",
              " 0.12399621307849884,\n",
              " 0.09587664902210236]"
            ]
          },
          "metadata": {
            "tags": []
          },
          "execution_count": 38
        }
      ]
    },
    {
      "cell_type": "code",
      "metadata": {
        "id": "YA0C4O-n20-N"
      },
      "source": [],
      "execution_count": null,
      "outputs": []
    },
    {
      "cell_type": "code",
      "metadata": {
        "id": "fu8vgrxu21BR"
      },
      "source": [],
      "execution_count": null,
      "outputs": []
    },
    {
      "cell_type": "markdown",
      "metadata": {
        "id": "2-LSjl5043ZL"
      },
      "source": [
        "\n",
        "# DistilBert\n"
      ]
    },
    {
      "cell_type": "markdown",
      "metadata": {
        "id": "7SZfgm8xVBs-"
      },
      "source": [
        "# Import libray"
      ]
    },
    {
      "cell_type": "code",
      "metadata": {
        "id": "OJREkDsZ8e--"
      },
      "source": [
        "import csv\n",
        "import matplotlib.pyplot as plt \n",
        "import seaborn as sns\n",
        "from tqdm import tqdm\n",
        "from sklearn.model_selection import train_test_split"
      ],
      "execution_count": null,
      "outputs": []
    },
    {
      "cell_type": "markdown",
      "metadata": {
        "id": "8XuAJXoNVING"
      },
      "source": [
        "# DistilBert-Tokenizer"
      ]
    },
    {
      "cell_type": "code",
      "metadata": {
        "colab": {
          "base_uri": "https://localhost:8080/"
        },
        "id": "aufSdCo1-6B5",
        "outputId": "0c6eac2b-12f7-4955-8c73-986a07ff8077"
      },
      "source": [
        "from transformers import DistilBertTokenizer\n",
        "from keras.preprocessing.sequence import pad_sequences\n",
        "\n",
        "distilbert_model_name = 'distilbert-base-uncased'\n",
        "\n",
        "tokenizer = DistilBertTokenizer.from_pretrained(distilbert_model_name, do_lower_case=True, truncation=True)\n",
        "MAX_LEN = 150\n",
        "\n",
        "def tokenize_sentences(sentences, tokenizer, max_seq_len = 150):\n",
        "    tokenized_sentences = []\n",
        "\n",
        "    for sentence in tqdm(sentences):\n",
        "        tokenized_sentence = tokenizer.encode(\n",
        "                            sentence,                  # Sentence to encode.\n",
        "                            add_special_tokens = True, # Add '[CLS]' and '[SEP]'\n",
        "                            max_length = max_seq_len,\n",
        "                            truncation = True          # Truncate all sentences.\n",
        "                    )\n",
        "        \n",
        "        tokenized_sentences.append(tokenized_sentence)\n",
        "\n",
        "    return tokenized_sentences\n",
        "\n",
        "def create_attention_masks(tokenized_and_padded_sentences):\n",
        "    attention_masks = []\n",
        "\n",
        "    for sentence in tokenized_and_padded_sentences:\n",
        "        att_mask = [int(token_id > 0) for token_id in sentence]\n",
        "        attention_masks.append(att_mask)\n",
        "\n",
        "    return np.asarray(attention_masks)\n",
        "\n",
        "input_ids = tokenize_sentences(totalX, tokenizer, MAX_LEN)\n",
        "input_ids = pad_sequences(input_ids, maxlen=MAX_LEN, dtype=\"long\", value=0, truncating=\"post\", padding=\"post\")\n",
        "attention_masks = create_attention_masks(input_ids)"
      ],
      "execution_count": null,
      "outputs": [
        {
          "output_type": "stream",
          "text": [
            "\n",
            "  0%|          | 0/21578 [00:00<?, ?it/s]\u001b[A\n",
            "  0%|          | 45/21578 [00:00<00:48, 439.95it/s]\u001b[A\n",
            "  0%|          | 105/21578 [00:00<00:45, 474.45it/s]\u001b[A\n",
            "  1%|          | 160/21578 [00:00<00:43, 494.35it/s]\u001b[A\n",
            "  1%|          | 203/21578 [00:00<00:45, 466.32it/s]\u001b[A\n",
            "  1%|          | 240/21578 [00:00<00:54, 392.48it/s]\u001b[A\n",
            "  1%|▏         | 276/21578 [00:00<00:56, 376.65it/s]\u001b[A\n",
            " 60%|█████▉    | 12925/21578 [00:40<00:19, 438.73it/s]\n",
            "  2%|▏         | 346/21578 [00:00<01:04, 329.88it/s]\u001b[A\n",
            "  2%|▏         | 379/21578 [00:00<01:06, 317.95it/s]\u001b[A\n",
            "  2%|▏         | 432/21578 [00:01<00:59, 358.05it/s]\u001b[A\n",
            "  2%|▏         | 495/21578 [00:01<00:51, 411.11it/s]\u001b[A\n",
            "  3%|▎         | 561/21578 [00:01<00:45, 462.41it/s]\u001b[A\n",
            "  3%|▎         | 631/21578 [00:01<00:40, 514.61it/s]\u001b[A\n",
            "  3%|▎         | 688/21578 [00:01<00:40, 511.94it/s]\u001b[A\n",
            "  3%|▎         | 743/21578 [00:01<00:40, 519.91it/s]\u001b[A\n",
            "  4%|▎         | 803/21578 [00:01<00:38, 540.48it/s]\u001b[A\n",
            "  4%|▍         | 860/21578 [00:01<00:39, 518.63it/s]\u001b[A\n",
            "  4%|▍         | 914/21578 [00:01<00:44, 463.16it/s]\u001b[A\n",
            "  4%|▍         | 963/21578 [00:02<00:48, 422.41it/s]\u001b[A\n",
            "  5%|▍         | 1011/21578 [00:02<00:46, 437.93it/s]\u001b[A\n",
            "  5%|▍         | 1068/21578 [00:02<00:43, 468.82it/s]\u001b[A\n",
            "  5%|▌         | 1129/21578 [00:02<00:40, 503.65it/s]\u001b[A\n",
            "  5%|▌         | 1184/21578 [00:02<00:39, 515.76it/s]\u001b[A\n",
            "  6%|▌         | 1238/21578 [00:02<00:39, 509.18it/s]\u001b[A\n",
            "  6%|▌         | 1290/21578 [00:02<00:41, 494.16it/s]\u001b[A\n",
            "  6%|▌         | 1348/21578 [00:02<00:39, 516.75it/s]\u001b[A\n",
            "  6%|▋         | 1401/21578 [00:02<00:40, 493.90it/s]\u001b[A\n",
            "  7%|▋         | 1456/21578 [00:03<00:39, 504.46it/s]\u001b[A\n",
            "  7%|▋         | 1513/21578 [00:03<00:38, 520.45it/s]\u001b[A\n",
            "  7%|▋         | 1566/21578 [00:03<00:40, 500.22it/s]\u001b[A\n",
            "  7%|▋         | 1617/21578 [00:03<00:40, 490.00it/s]\u001b[A\n",
            "  8%|▊         | 1676/21578 [00:03<00:38, 515.64it/s]\u001b[A\n",
            "  8%|▊         | 1729/21578 [00:03<00:40, 493.84it/s]\u001b[A\n",
            "  8%|▊         | 1786/21578 [00:03<00:38, 512.48it/s]\u001b[A\n",
            "  9%|▊         | 1839/21578 [00:03<00:38, 513.47it/s]\u001b[A\n",
            "  9%|▉         | 1891/21578 [00:03<00:41, 474.05it/s]\u001b[A\n",
            "  9%|▉         | 1940/21578 [00:04<00:47, 410.71it/s]\u001b[A\n",
            "  9%|▉         | 1984/21578 [00:04<00:48, 403.69it/s]\u001b[A\n",
            "  9%|▉         | 2034/21578 [00:04<00:45, 428.15it/s]\u001b[A\n",
            " 10%|▉         | 2081/21578 [00:04<00:44, 438.33it/s]\u001b[A\n",
            " 10%|▉         | 2132/21578 [00:04<00:42, 456.82it/s]\u001b[A\n",
            " 10%|█         | 2203/21578 [00:04<00:38, 506.02it/s]\u001b[A\n",
            " 10%|█         | 2257/21578 [00:04<00:37, 515.24it/s]\u001b[A\n",
            " 11%|█         | 2311/21578 [00:04<00:37, 518.26it/s]\u001b[A\n",
            " 11%|█         | 2366/21578 [00:04<00:36, 525.25it/s]\u001b[A\n",
            " 11%|█         | 2420/21578 [00:05<00:38, 496.26it/s]\u001b[A\n",
            " 11%|█▏        | 2475/21578 [00:05<00:37, 510.76it/s]\u001b[A\n",
            " 12%|█▏        | 2527/21578 [00:05<00:40, 471.75it/s]\u001b[A\n",
            " 12%|█▏        | 2576/21578 [00:05<00:39, 475.50it/s]\u001b[A\n",
            " 12%|█▏        | 2641/21578 [00:05<00:36, 517.03it/s]\u001b[A\n",
            " 12%|█▏        | 2697/21578 [00:05<00:35, 528.82it/s]\u001b[A\n",
            " 13%|█▎        | 2752/21578 [00:05<00:35, 524.41it/s]\u001b[A\n",
            " 13%|█▎        | 2806/21578 [00:05<00:37, 497.40it/s]\u001b[A\n",
            " 13%|█▎        | 2857/21578 [00:05<00:37, 499.18it/s]\u001b[A\n",
            " 13%|█▎        | 2910/21578 [00:06<00:36, 507.38it/s]\u001b[A\n",
            " 14%|█▎        | 2965/21578 [00:06<00:36, 515.48it/s]\u001b[A\n",
            " 14%|█▍        | 3017/21578 [00:06<00:39, 465.39it/s]\u001b[A\n",
            " 14%|█▍        | 3065/21578 [00:06<00:45, 409.77it/s]\u001b[A\n",
            " 14%|█▍        | 3112/21578 [00:06<00:43, 422.04it/s]\u001b[A\n",
            " 15%|█▍        | 3166/21578 [00:06<00:40, 449.92it/s]\u001b[A\n",
            " 15%|█▍        | 3222/21578 [00:06<00:38, 475.80it/s]\u001b[A\n",
            " 15%|█▌        | 3278/21578 [00:06<00:36, 497.09it/s]\u001b[A\n",
            " 15%|█▌        | 3330/21578 [00:06<00:36, 493.59it/s]\u001b[A\n",
            " 16%|█▌        | 3384/21578 [00:07<00:36, 505.02it/s]\u001b[A\n",
            " 16%|█▌        | 3436/21578 [00:07<00:38, 476.89it/s]\u001b[A\n",
            " 16%|█▌        | 3485/21578 [00:07<00:39, 456.92it/s]\u001b[A\n",
            " 16%|█▋        | 3532/21578 [00:07<00:43, 418.00it/s]\u001b[A\n",
            " 17%|█▋        | 3575/21578 [00:07<00:49, 367.26it/s]\u001b[A\n",
            " 17%|█▋        | 3629/21578 [00:07<00:44, 405.51it/s]\u001b[A\n",
            " 17%|█▋        | 3685/21578 [00:07<00:40, 441.35it/s]\u001b[A\n",
            " 17%|█▋        | 3748/21578 [00:07<00:36, 483.43it/s]\u001b[A\n",
            " 18%|█▊        | 3800/21578 [00:07<00:36, 489.06it/s]\u001b[A\n",
            " 18%|█▊        | 3861/21578 [00:08<00:34, 512.44it/s]\u001b[A\n",
            " 18%|█▊        | 3915/21578 [00:08<00:34, 505.47it/s]\u001b[A\n",
            " 18%|█▊        | 3967/21578 [00:08<00:35, 494.24it/s]\u001b[A\n",
            " 19%|█▊        | 4018/21578 [00:08<00:38, 457.75it/s]\u001b[A\n",
            " 19%|█▉        | 4065/21578 [00:08<00:41, 417.26it/s]\u001b[A\n",
            " 19%|█▉        | 4109/21578 [00:08<00:42, 408.60it/s]\u001b[A\n",
            " 19%|█▉        | 4151/21578 [00:08<00:42, 411.20it/s]\u001b[A\n",
            " 19%|█▉        | 4196/21578 [00:08<00:41, 418.01it/s]\u001b[A\n",
            " 20%|█▉        | 4247/21578 [00:08<00:39, 440.64it/s]\u001b[A\n",
            " 20%|█▉        | 4294/21578 [00:09<00:38, 448.78it/s]\u001b[A\n",
            " 20%|██        | 4352/21578 [00:09<00:35, 480.44it/s]\u001b[A\n",
            " 20%|██        | 4404/21578 [00:09<00:34, 491.63it/s]\u001b[A\n",
            " 21%|██        | 4463/21578 [00:09<00:33, 517.23it/s]\u001b[A\n",
            " 21%|██        | 4516/21578 [00:09<00:32, 518.97it/s]\u001b[A\n",
            " 21%|██        | 4569/21578 [00:09<00:33, 507.43it/s]\u001b[A\n",
            " 21%|██▏       | 4621/21578 [00:09<00:35, 472.04it/s]\u001b[A\n",
            " 22%|██▏       | 4670/21578 [00:09<00:38, 440.01it/s]\u001b[A\n",
            " 22%|██▏       | 4716/21578 [00:09<00:39, 425.18it/s]\u001b[A\n",
            " 22%|██▏       | 4760/21578 [00:10<00:39, 423.45it/s]\u001b[A\n",
            " 22%|██▏       | 4809/21578 [00:10<00:38, 439.89it/s]\u001b[A\n",
            " 23%|██▎       | 4864/21578 [00:10<00:36, 462.27it/s]\u001b[A\n",
            " 23%|██▎       | 4911/21578 [00:10<00:37, 444.94it/s]\u001b[A\n",
            " 23%|██▎       | 4957/21578 [00:10<00:38, 429.58it/s]\u001b[A\n",
            " 23%|██▎       | 5004/21578 [00:10<00:38, 429.25it/s]\u001b[A\n",
            " 23%|██▎       | 5070/21578 [00:10<00:35, 467.57it/s]\u001b[A\n",
            " 24%|██▎       | 5121/21578 [00:10<00:34, 479.36it/s]\u001b[A\n",
            " 24%|██▍       | 5170/21578 [00:10<00:39, 411.94it/s]\u001b[A\n",
            " 24%|██▍       | 5214/21578 [00:11<00:47, 347.33it/s]\u001b[A\n",
            " 24%|██▍       | 5253/21578 [00:11<00:46, 351.52it/s]\u001b[A\n",
            " 25%|██▍       | 5291/21578 [00:11<00:48, 336.01it/s]\u001b[A\n",
            " 25%|██▍       | 5327/21578 [00:11<00:47, 341.21it/s]\u001b[A\n",
            " 25%|██▍       | 5377/21578 [00:11<00:43, 375.02it/s]\u001b[A\n",
            " 25%|██▌       | 5419/21578 [00:11<00:42, 383.95it/s]\u001b[A\n",
            " 25%|██▌       | 5471/21578 [00:11<00:39, 411.78it/s]\u001b[A\n",
            " 26%|██▌       | 5515/21578 [00:11<00:39, 405.59it/s]\u001b[A\n",
            " 26%|██▌       | 5567/21578 [00:11<00:36, 433.99it/s]\u001b[A\n",
            " 26%|██▌       | 5613/21578 [00:12<00:36, 439.44it/s]\u001b[A\n",
            " 26%|██▋       | 5671/21578 [00:12<00:33, 473.45it/s]\u001b[A\n",
            " 27%|██▋       | 5725/21578 [00:12<00:32, 491.21it/s]\u001b[A\n",
            " 27%|██▋       | 5776/21578 [00:12<00:34, 461.22it/s]\u001b[A\n",
            " 27%|██▋       | 5824/21578 [00:12<00:37, 416.13it/s]\u001b[A\n",
            " 27%|██▋       | 5868/21578 [00:12<00:39, 398.31it/s]\u001b[A\n",
            " 27%|██▋       | 5910/21578 [00:12<00:39, 398.75it/s]\u001b[A\n",
            " 28%|██▊       | 5965/21578 [00:12<00:35, 433.84it/s]\u001b[A\n",
            " 28%|██▊       | 6034/21578 [00:12<00:31, 487.46it/s]\u001b[A\n",
            " 28%|██▊       | 6087/21578 [00:13<00:32, 481.99it/s]\u001b[A\n",
            " 28%|██▊       | 6138/21578 [00:13<00:32, 469.38it/s]\u001b[A\n",
            " 29%|██▊       | 6187/21578 [00:13<00:32, 471.62it/s]\u001b[A\n",
            " 29%|██▉       | 6236/21578 [00:13<00:33, 452.05it/s]\u001b[A\n",
            " 29%|██▉       | 6293/21578 [00:13<00:31, 481.46it/s]\u001b[A\n",
            " 29%|██▉       | 6343/21578 [00:13<00:31, 484.74it/s]\u001b[A\n",
            " 30%|██▉       | 6393/21578 [00:13<00:34, 442.64it/s]\u001b[A\n",
            " 30%|██▉       | 6439/21578 [00:13<00:36, 417.54it/s]\u001b[A\n",
            " 30%|███       | 6490/21578 [00:14<00:34, 440.96it/s]\u001b[A\n",
            " 30%|███       | 6545/21578 [00:14<00:32, 467.99it/s]\u001b[A\n",
            " 31%|███       | 6594/21578 [00:14<00:31, 474.22it/s]\u001b[A\n",
            " 31%|███       | 6645/21578 [00:14<00:31, 481.44it/s]\u001b[A\n",
            " 31%|███       | 6694/21578 [00:14<00:30, 482.93it/s]\u001b[A\n",
            " 31%|███       | 6743/21578 [00:14<00:30, 482.33it/s]\u001b[A\n",
            " 32%|███▏      | 6806/21578 [00:14<00:28, 517.70it/s]\u001b[A\n",
            " 32%|███▏      | 6861/21578 [00:14<00:27, 526.19it/s]\u001b[A\n",
            " 32%|███▏      | 6915/21578 [00:14<00:29, 498.26it/s]\u001b[A\n",
            " 32%|███▏      | 6966/21578 [00:14<00:30, 471.75it/s]\u001b[A\n",
            " 33%|███▎      | 7015/21578 [00:15<00:30, 472.28it/s]\u001b[A\n",
            " 33%|███▎      | 7063/21578 [00:15<00:33, 431.48it/s]\u001b[A\n",
            " 33%|███▎      | 7108/21578 [00:15<00:33, 430.38it/s]\u001b[A\n",
            " 33%|███▎      | 7159/21578 [00:15<00:31, 450.82it/s]\u001b[A\n",
            " 33%|███▎      | 7212/21578 [00:15<00:30, 470.79it/s]\u001b[A\n",
            " 34%|███▎      | 7268/21578 [00:15<00:29, 493.24it/s]\u001b[A\n",
            " 34%|███▍      | 7319/21578 [00:15<00:28, 492.86it/s]\u001b[A\n",
            " 34%|███▍      | 7369/21578 [00:15<00:29, 485.24it/s]\u001b[A\n",
            " 34%|███▍      | 7418/21578 [00:15<00:29, 475.73it/s]\u001b[A\n",
            " 35%|███▍      | 7477/21578 [00:16<00:28, 503.09it/s]\u001b[A\n",
            " 35%|███▍      | 7528/21578 [00:16<00:28, 494.11it/s]\u001b[A\n",
            " 35%|███▌      | 7578/21578 [00:16<00:31, 444.58it/s]\u001b[A\n",
            " 35%|███▌      | 7624/21578 [00:16<00:32, 427.99it/s]\u001b[A\n",
            " 36%|███▌      | 7668/21578 [00:16<00:32, 424.88it/s]\u001b[A\n",
            " 36%|███▌      | 7723/21578 [00:16<00:30, 455.13it/s]\u001b[A\n",
            " 36%|███▌      | 7771/21578 [00:16<00:29, 462.26it/s]\u001b[A\n",
            " 36%|███▌      | 7819/21578 [00:16<00:29, 467.40it/s]\u001b[A\n",
            " 37%|███▋      | 7883/21578 [00:16<00:26, 507.57it/s]\u001b[A\n",
            " 37%|███▋      | 7936/21578 [00:17<00:29, 469.86it/s]\u001b[A\n",
            " 37%|███▋      | 7993/21578 [00:17<00:27, 492.73it/s]\u001b[A\n",
            " 37%|███▋      | 8044/21578 [00:17<00:29, 457.87it/s]\u001b[A\n",
            " 38%|███▊      | 8092/21578 [00:17<00:33, 402.13it/s]\u001b[A\n",
            " 38%|███▊      | 8135/21578 [00:17<00:38, 350.29it/s]\u001b[A\n",
            " 38%|███▊      | 8173/21578 [00:17<00:38, 351.07it/s]\u001b[A\n",
            " 38%|███▊      | 8211/21578 [00:17<00:40, 328.16it/s]\u001b[A\n",
            " 38%|███▊      | 8268/21578 [00:17<00:35, 375.55it/s]\u001b[A\n",
            " 39%|███▊      | 8314/21578 [00:18<00:33, 393.49it/s]\u001b[A\n",
            " 39%|███▉      | 8374/21578 [00:18<00:30, 437.98it/s]\u001b[A\n",
            " 39%|███▉      | 8422/21578 [00:18<00:29, 443.36it/s]\u001b[A\n",
            " 39%|███▉      | 8469/21578 [00:18<00:30, 433.62it/s]\u001b[A\n",
            " 39%|███▉      | 8516/21578 [00:18<00:29, 440.31it/s]\u001b[A\n",
            " 40%|███▉      | 8569/21578 [00:18<00:28, 454.77it/s]\u001b[A\n",
            " 40%|███▉      | 8616/21578 [00:18<00:29, 433.80it/s]\u001b[A\n",
            " 40%|████      | 8661/21578 [00:18<00:32, 402.17it/s]\u001b[A\n",
            " 40%|████      | 8703/21578 [00:18<00:32, 393.20it/s]\u001b[A\n",
            " 41%|████      | 8746/21578 [00:19<00:32, 396.47it/s]\u001b[A\n",
            " 41%|████      | 8791/21578 [00:19<00:31, 411.03it/s]\u001b[A\n",
            " 41%|████      | 8838/21578 [00:19<00:29, 425.19it/s]\u001b[A\n",
            " 41%|████      | 8884/21578 [00:19<00:29, 433.89it/s]\u001b[A\n",
            " 41%|████▏     | 8937/21578 [00:19<00:27, 456.17it/s]\u001b[A\n",
            " 42%|████▏     | 8984/21578 [00:19<00:29, 424.61it/s]\u001b[A\n",
            " 42%|████▏     | 9036/21578 [00:19<00:28, 446.91it/s]\u001b[A\n",
            " 42%|████▏     | 9082/21578 [00:19<00:27, 450.26it/s]\u001b[A\n",
            " 42%|████▏     | 9139/21578 [00:19<00:25, 479.89it/s]\u001b[A\n",
            " 43%|████▎     | 9188/21578 [00:19<00:28, 435.99it/s]\u001b[A\n",
            " 43%|████▎     | 9234/21578 [00:20<00:29, 416.00it/s]\u001b[A\n",
            " 43%|████▎     | 9281/21578 [00:20<00:28, 428.42it/s]\u001b[A\n",
            " 43%|████▎     | 9330/21578 [00:20<00:27, 443.30it/s]\u001b[A\n",
            " 43%|████▎     | 9383/21578 [00:20<00:26, 465.81it/s]\u001b[A\n",
            " 44%|████▎     | 9437/21578 [00:20<00:24, 485.73it/s]\u001b[A\n",
            " 44%|████▍     | 9487/21578 [00:20<00:25, 476.67it/s]\u001b[A\n",
            " 44%|████▍     | 9537/21578 [00:20<00:25, 477.70it/s]\u001b[A\n",
            " 44%|████▍     | 9590/21578 [00:20<00:24, 488.30it/s]\u001b[A\n",
            " 45%|████▍     | 9640/21578 [00:20<00:26, 456.24it/s]\u001b[A\n",
            " 45%|████▍     | 9687/21578 [00:21<00:28, 414.37it/s]\u001b[A\n",
            " 45%|████▌     | 9730/21578 [00:21<00:31, 379.05it/s]\u001b[A\n",
            " 45%|████▌     | 9770/21578 [00:21<00:33, 347.74it/s]\u001b[A\n",
            " 45%|████▌     | 9807/21578 [00:21<00:34, 338.13it/s]\u001b[A\n",
            " 46%|████▌     | 9858/21578 [00:21<00:31, 376.01it/s]\u001b[A\n",
            " 46%|████▌     | 9908/21578 [00:21<00:28, 405.09it/s]\u001b[A\n",
            " 46%|████▌     | 9959/21578 [00:21<00:26, 431.72it/s]\u001b[A\n",
            " 46%|████▋     | 10011/21578 [00:21<00:25, 453.21it/s]\u001b[A\n",
            " 47%|████▋     | 10059/21578 [00:21<00:25, 456.88it/s]\u001b[A\n",
            " 47%|████▋     | 10110/21578 [00:22<00:24, 470.38it/s]\u001b[A\n",
            " 47%|████▋     | 10158/21578 [00:22<00:25, 442.60it/s]\u001b[A\n",
            " 47%|████▋     | 10214/21578 [00:22<00:24, 471.03it/s]\u001b[A\n",
            " 48%|████▊     | 10263/21578 [00:22<00:24, 458.13it/s]\u001b[A\n",
            " 48%|████▊     | 10310/21578 [00:22<00:26, 421.70it/s]\u001b[A\n",
            " 48%|████▊     | 10354/21578 [00:22<00:27, 405.22it/s]\u001b[A\n",
            " 48%|████▊     | 10396/21578 [00:22<00:27, 402.94it/s]\u001b[A\n",
            " 48%|████▊     | 10454/21578 [00:22<00:25, 443.44it/s]\u001b[A\n",
            " 49%|████▊     | 10501/21578 [00:22<00:24, 448.79it/s]\u001b[A\n",
            " 49%|████▉     | 10548/21578 [00:23<00:24, 452.66it/s]\u001b[A\n",
            " 49%|████▉     | 10595/21578 [00:23<00:24, 439.33it/s]\u001b[A\n",
            " 49%|████▉     | 10640/21578 [00:23<00:26, 415.77it/s]\u001b[A\n",
            " 50%|████▉     | 10683/21578 [00:23<00:26, 411.80it/s]\u001b[A\n",
            " 50%|████▉     | 10725/21578 [00:23<00:27, 388.74it/s]\u001b[A\n",
            " 50%|████▉     | 10765/21578 [00:23<00:28, 377.31it/s]\u001b[A\n",
            " 50%|█████     | 10804/21578 [00:23<00:30, 358.45it/s]\u001b[A\n",
            " 50%|█████     | 10852/21578 [00:23<00:27, 387.88it/s]\u001b[A\n",
            " 51%|█████     | 10905/21578 [00:23<00:25, 421.27it/s]\u001b[A\n",
            " 51%|█████     | 10950/21578 [00:24<00:24, 428.72it/s]\u001b[A\n",
            " 51%|█████     | 11000/21578 [00:24<00:23, 443.44it/s]\u001b[A\n",
            " 51%|█████     | 11049/21578 [00:24<00:23, 454.63it/s]\u001b[A\n",
            " 51%|█████▏    | 11096/21578 [00:24<00:23, 448.35it/s]\u001b[A\n",
            " 52%|█████▏    | 11144/21578 [00:24<00:23, 453.33it/s]\u001b[A\n",
            " 52%|█████▏    | 11190/21578 [00:24<00:25, 409.94it/s]\u001b[A\n",
            " 52%|█████▏    | 11233/21578 [00:24<00:28, 361.83it/s]\u001b[A\n",
            " 52%|█████▏    | 11272/21578 [00:24<00:27, 368.79it/s]\u001b[A\n",
            " 52%|█████▏    | 11323/21578 [00:24<00:25, 399.56it/s]\u001b[A\n",
            " 53%|█████▎    | 11368/21578 [00:25<00:24, 411.18it/s]\u001b[A\n",
            " 53%|█████▎    | 11418/21578 [00:25<00:23, 433.13it/s]\u001b[A\n",
            " 53%|█████▎    | 11469/21578 [00:25<00:22, 453.33it/s]\u001b[A\n",
            " 53%|█████▎    | 11516/21578 [00:25<00:22, 450.22it/s]\u001b[A\n",
            " 54%|█████▎    | 11574/21578 [00:25<00:20, 481.87it/s]\u001b[A\n",
            " 54%|█████▍    | 11637/21578 [00:25<00:19, 514.00it/s]\u001b[A\n",
            " 54%|█████▍    | 11690/21578 [00:25<00:19, 516.90it/s]\u001b[A\n",
            " 54%|█████▍    | 11743/21578 [00:25<00:19, 516.79it/s]\u001b[A\n",
            " 55%|█████▍    | 11796/21578 [00:26<00:23, 416.24it/s]\u001b[A\n",
            " 55%|█████▍    | 11842/21578 [00:26<00:24, 395.73it/s]\u001b[A\n",
            " 55%|█████▌    | 11888/21578 [00:26<00:23, 409.03it/s]\u001b[A\n",
            " 55%|█████▌    | 11949/21578 [00:26<00:21, 451.05it/s]\u001b[A\n",
            " 56%|█████▌    | 12002/21578 [00:26<00:20, 469.21it/s]\u001b[A\n",
            " 56%|█████▌    | 12052/21578 [00:26<00:20, 455.87it/s]\u001b[A\n",
            " 56%|█████▌    | 12111/21578 [00:26<00:19, 488.33it/s]\u001b[A\n",
            " 56%|█████▋    | 12162/21578 [00:26<00:20, 464.35it/s]\u001b[A\n",
            " 57%|█████▋    | 12210/21578 [00:26<00:21, 444.93it/s]\u001b[A\n",
            " 57%|█████▋    | 12277/21578 [00:27<00:19, 486.10it/s]\u001b[A\n",
            " 57%|█████▋    | 12332/21578 [00:27<00:18, 501.65it/s]\u001b[A\n",
            " 57%|█████▋    | 12384/21578 [00:27<00:19, 475.05it/s]\u001b[A\n",
            " 58%|█████▊    | 12433/21578 [00:27<00:21, 425.87it/s]\u001b[A\n",
            " 58%|█████▊    | 12478/21578 [00:27<00:22, 406.51it/s]\u001b[A\n",
            " 58%|█████▊    | 12532/21578 [00:27<00:20, 436.75it/s]\u001b[A\n",
            " 58%|█████▊    | 12598/21578 [00:27<00:18, 480.58it/s]\u001b[A\n",
            " 59%|█████▊    | 12649/21578 [00:27<00:18, 476.03it/s]\u001b[A\n",
            " 59%|█████▉    | 12699/21578 [00:27<00:19, 452.41it/s]\u001b[A\n",
            " 59%|█████▉    | 12746/21578 [00:28<00:20, 441.54it/s]\u001b[A\n",
            " 59%|█████▉    | 12792/21578 [00:28<00:21, 403.83it/s]\u001b[A\n",
            " 59%|█████▉    | 12834/21578 [00:28<00:22, 394.22it/s]\u001b[A\n",
            " 60%|█████▉    | 12876/21578 [00:28<00:21, 396.74it/s]\u001b[A\n",
            " 60%|█████▉    | 12922/21578 [00:28<00:20, 413.22it/s]\u001b[A\n",
            " 60%|██████    | 12967/21578 [00:28<00:20, 422.88it/s]\u001b[A\n",
            " 60%|██████    | 13010/21578 [00:28<00:20, 424.86it/s]\u001b[A\n",
            " 60%|██████    | 13053/21578 [00:28<00:20, 413.58it/s]\u001b[A\n",
            " 61%|██████    | 13107/21578 [00:28<00:19, 444.62it/s]\u001b[A\n",
            " 61%|██████    | 13160/21578 [00:29<00:18, 464.12it/s]\u001b[A\n",
            " 61%|██████    | 13216/21578 [00:29<00:17, 481.80it/s]\u001b[A\n",
            " 61%|██████▏   | 13265/21578 [00:29<00:20, 397.55it/s]\u001b[A\n",
            " 62%|██████▏   | 13308/21578 [00:29<00:20, 400.51it/s]\u001b[A\n",
            " 62%|██████▏   | 13382/21578 [00:29<00:17, 464.14it/s]\u001b[A\n",
            " 62%|██████▏   | 13450/21578 [00:29<00:15, 511.31it/s]\u001b[A\n",
            " 63%|██████▎   | 13507/21578 [00:29<00:15, 522.35it/s]\u001b[A\n",
            " 63%|██████▎   | 13564/21578 [00:29<00:15, 532.42it/s]\u001b[A\n",
            " 63%|██████▎   | 13620/21578 [00:29<00:15, 513.62it/s]\u001b[A\n",
            " 63%|██████▎   | 13674/21578 [00:30<00:16, 491.18it/s]\u001b[A\n",
            " 64%|██████▎   | 13739/21578 [00:30<00:14, 529.04it/s]\u001b[A\n",
            " 64%|██████▍   | 13803/21578 [00:30<00:13, 558.04it/s]\u001b[A\n",
            " 64%|██████▍   | 13873/21578 [00:30<00:12, 593.18it/s]\u001b[A\n",
            " 65%|██████▍   | 13946/21578 [00:30<00:12, 625.08it/s]\u001b[A\n",
            " 65%|██████▍   | 14012/21578 [00:30<00:11, 634.79it/s]\u001b[A\n",
            " 65%|██████▌   | 14086/21578 [00:30<00:11, 662.29it/s]\u001b[A\n",
            " 66%|██████▌   | 14154/21578 [00:30<00:11, 664.88it/s]\u001b[A\n",
            " 66%|██████▌   | 14222/21578 [00:30<00:11, 655.12it/s]\u001b[A\n",
            " 66%|██████▌   | 14295/21578 [00:30<00:10, 675.14it/s]\u001b[A\n",
            " 67%|██████▋   | 14364/21578 [00:31<00:11, 619.59it/s]\u001b[A\n",
            " 67%|██████▋   | 14434/21578 [00:31<00:11, 631.84it/s]\u001b[A\n",
            " 67%|██████▋   | 14499/21578 [00:31<00:11, 606.91it/s]\u001b[A\n",
            " 68%|██████▊   | 14576/21578 [00:31<00:10, 647.75it/s]\u001b[A\n",
            " 68%|██████▊   | 14643/21578 [00:31<00:11, 604.87it/s]\u001b[A\n",
            " 68%|██████▊   | 14706/21578 [00:31<00:12, 560.82it/s]\u001b[A\n",
            " 68%|██████▊   | 14764/21578 [00:31<00:13, 493.60it/s]\u001b[A\n",
            " 69%|██████▊   | 14817/21578 [00:31<00:13, 502.77it/s]\u001b[A\n",
            " 69%|██████▉   | 14870/21578 [00:32<00:15, 436.67it/s]\u001b[A\n",
            " 69%|██████▉   | 14917/21578 [00:32<00:16, 410.25it/s]\u001b[A\n",
            " 69%|██████▉   | 14961/21578 [00:32<00:16, 398.60it/s]\u001b[A\n",
            " 70%|██████▉   | 15018/21578 [00:32<00:15, 437.03it/s]\u001b[A\n",
            " 70%|██████▉   | 15065/21578 [00:32<00:14, 446.29it/s]\u001b[A\n",
            " 70%|███████   | 15123/21578 [00:32<00:13, 476.35it/s]\u001b[A\n",
            " 70%|███████   | 15181/21578 [00:32<00:12, 501.53it/s]\u001b[A\n",
            " 71%|███████   | 15233/21578 [00:32<00:12, 499.07it/s]\u001b[A\n",
            " 71%|███████   | 15285/21578 [00:32<00:12, 488.40it/s]\u001b[A\n",
            " 71%|███████   | 15335/21578 [00:33<00:12, 490.76it/s]\u001b[A\n",
            " 71%|███████▏  | 15385/21578 [00:33<00:14, 430.04it/s]\u001b[A\n",
            " 72%|███████▏  | 15430/21578 [00:33<00:14, 435.76it/s]\u001b[A\n",
            " 72%|███████▏  | 15475/21578 [00:33<00:15, 384.01it/s]\u001b[A\n",
            " 72%|███████▏  | 15532/21578 [00:33<00:14, 424.87it/s]\u001b[A\n",
            " 72%|███████▏  | 15578/21578 [00:33<00:14, 423.62it/s]\u001b[A\n",
            " 72%|███████▏  | 15633/21578 [00:33<00:13, 454.42it/s]\u001b[A\n",
            " 73%|███████▎  | 15687/21578 [00:33<00:12, 474.30it/s]\u001b[A\n",
            " 73%|███████▎  | 15740/21578 [00:33<00:11, 489.61it/s]\u001b[A\n",
            " 73%|███████▎  | 15792/21578 [00:34<00:11, 497.67it/s]\u001b[A\n",
            " 73%|███████▎  | 15843/21578 [00:34<00:12, 471.38it/s]\u001b[A\n",
            " 74%|███████▎  | 15892/21578 [00:34<00:13, 425.22it/s]\u001b[A\n",
            " 74%|███████▍  | 15939/21578 [00:34<00:13, 433.13it/s]\u001b[A\n",
            " 74%|███████▍  | 15991/21578 [00:34<00:12, 455.74it/s]\u001b[A\n",
            " 74%|███████▍  | 16040/21578 [00:34<00:11, 462.76it/s]\u001b[A\n",
            " 75%|███████▍  | 16088/21578 [00:34<00:12, 444.54it/s]\u001b[A\n",
            " 75%|███████▍  | 16134/21578 [00:34<00:13, 405.02it/s]\u001b[A\n",
            " 75%|███████▍  | 16176/21578 [00:35<00:15, 357.67it/s]\u001b[A\n",
            " 75%|███████▌  | 16214/21578 [00:35<00:14, 358.39it/s]\u001b[A\n",
            " 75%|███████▌  | 16252/21578 [00:35<00:14, 363.68it/s]\u001b[A\n",
            " 76%|███████▌  | 16307/21578 [00:35<00:13, 398.86it/s]\u001b[A\n",
            " 76%|███████▌  | 16359/21578 [00:35<00:12, 428.61it/s]\u001b[A\n",
            " 76%|███████▌  | 16408/21578 [00:35<00:11, 444.45it/s]\u001b[A\n",
            " 76%|███████▋  | 16474/21578 [00:35<00:10, 491.05it/s]\u001b[A\n",
            " 77%|███████▋  | 16527/21578 [00:35<00:10, 500.35it/s]\u001b[A\n",
            " 77%|███████▋  | 16579/21578 [00:35<00:10, 488.86it/s]\u001b[A\n",
            " 77%|███████▋  | 16631/21578 [00:35<00:09, 495.54it/s]\u001b[A\n",
            " 77%|███████▋  | 16682/21578 [00:36<00:10, 471.98it/s]\u001b[A\n",
            " 78%|███████▊  | 16731/21578 [00:36<00:10, 467.65it/s]\u001b[A\n",
            " 78%|███████▊  | 16779/21578 [00:36<00:10, 444.06it/s]\u001b[A\n",
            " 78%|███████▊  | 16827/21578 [00:36<00:10, 453.03it/s]\u001b[A\n",
            " 78%|███████▊  | 16873/21578 [00:36<00:10, 447.33it/s]\u001b[A\n",
            " 78%|███████▊  | 16926/21578 [00:36<00:09, 466.26it/s]\u001b[A\n",
            " 79%|███████▊  | 16974/21578 [00:36<00:10, 423.51it/s]\u001b[A\n",
            " 79%|███████▉  | 17018/21578 [00:36<00:10, 422.93it/s]\u001b[A\n",
            " 79%|███████▉  | 17062/21578 [00:36<00:10, 416.83it/s]\u001b[A\n",
            " 79%|███████▉  | 17105/21578 [00:37<00:10, 407.54it/s]\u001b[A\n",
            " 79%|███████▉  | 17148/21578 [00:37<00:10, 409.63it/s]\u001b[A\n",
            " 80%|███████▉  | 17190/21578 [00:37<00:11, 395.74it/s]\u001b[A\n",
            " 80%|███████▉  | 17230/21578 [00:37<00:12, 343.60it/s]\u001b[A\n",
            " 80%|████████  | 17266/21578 [00:37<00:12, 332.96it/s]\u001b[A\n",
            " 80%|████████  | 17301/21578 [00:37<00:12, 329.87it/s]\u001b[A\n",
            " 80%|████████  | 17335/21578 [00:37<00:13, 321.20it/s]\u001b[A\n",
            " 80%|████████  | 17368/21578 [00:37<00:13, 302.10it/s]\u001b[A\n",
            " 81%|████████  | 17399/21578 [00:38<00:14, 285.43it/s]\u001b[A\n",
            " 81%|████████  | 17429/21578 [00:38<00:15, 268.30it/s]\u001b[A\n",
            " 81%|████████  | 17457/21578 [00:38<00:15, 270.42it/s]\u001b[A\n",
            " 81%|████████  | 17488/21578 [00:38<00:14, 280.51it/s]\u001b[A\n",
            " 81%|████████  | 17522/21578 [00:38<00:13, 294.76it/s]\u001b[A\n",
            " 81%|████████▏ | 17579/21578 [00:38<00:11, 344.03it/s]\u001b[A\n",
            " 82%|████████▏ | 17634/21578 [00:38<00:10, 385.30it/s]\u001b[A\n",
            " 82%|████████▏ | 17684/21578 [00:38<00:09, 413.66it/s]\u001b[A\n",
            " 82%|████████▏ | 17731/21578 [00:38<00:09, 419.81it/s]\u001b[A\n",
            " 82%|████████▏ | 17783/21578 [00:38<00:08, 442.08it/s]\u001b[A\n",
            " 83%|████████▎ | 17846/21578 [00:39<00:07, 481.38it/s]\u001b[A\n",
            " 83%|████████▎ | 17897/21578 [00:39<00:08, 419.47it/s]\u001b[A\n",
            " 83%|████████▎ | 17943/21578 [00:39<00:09, 378.71it/s]\u001b[A\n",
            " 83%|████████▎ | 17984/21578 [00:39<00:10, 350.13it/s]\u001b[A\n",
            " 84%|████████▎ | 18034/21578 [00:39<00:09, 384.60it/s]\u001b[A\n",
            " 84%|████████▍ | 18091/21578 [00:39<00:08, 425.62it/s]\u001b[A\n",
            " 84%|████████▍ | 18139/21578 [00:39<00:07, 439.59it/s]\u001b[A\n",
            " 84%|████████▍ | 18191/21578 [00:39<00:07, 460.76it/s]\u001b[A\n",
            " 85%|████████▍ | 18250/21578 [00:40<00:06, 483.04it/s]\u001b[A\n",
            " 85%|████████▍ | 18300/21578 [00:40<00:06, 475.60it/s]\u001b[A\n",
            " 85%|████████▌ | 18349/21578 [00:40<00:06, 467.21it/s]\u001b[A\n",
            " 85%|████████▌ | 18397/21578 [00:40<00:07, 445.50it/s]\u001b[A\n",
            " 85%|████████▌ | 18443/21578 [00:40<00:07, 392.95it/s]\u001b[A\n",
            " 86%|████████▌ | 18485/21578 [00:40<00:08, 377.95it/s]\u001b[A\n",
            " 86%|████████▌ | 18526/21578 [00:40<00:07, 386.79it/s]\u001b[A\n",
            " 86%|████████▌ | 18568/21578 [00:40<00:07, 395.78it/s]\u001b[A\n",
            " 86%|████████▋ | 18614/21578 [00:40<00:07, 412.94it/s]\u001b[A\n",
            " 87%|████████▋ | 18674/21578 [00:41<00:06, 453.26it/s]\u001b[A\n",
            " 87%|████████▋ | 18731/21578 [00:41<00:05, 475.67it/s]\u001b[A\n",
            " 87%|████████▋ | 18785/21578 [00:41<00:05, 490.10it/s]\u001b[A\n",
            " 87%|████████▋ | 18849/21578 [00:41<00:05, 523.76it/s]\u001b[A\n",
            " 88%|████████▊ | 18907/21578 [00:41<00:04, 539.42it/s]\u001b[A\n",
            " 88%|████████▊ | 18963/21578 [00:41<00:05, 505.13it/s]\u001b[A\n",
            " 88%|████████▊ | 19015/21578 [00:41<00:05, 481.99it/s]\u001b[A\n",
            " 88%|████████▊ | 19065/21578 [00:41<00:05, 429.43it/s]\u001b[A\n",
            " 89%|████████▊ | 19110/21578 [00:41<00:05, 428.19it/s]\u001b[A\n",
            " 89%|████████▉ | 19164/21578 [00:42<00:05, 451.57it/s]\u001b[A\n",
            " 89%|████████▉ | 19228/21578 [00:42<00:04, 494.93it/s]\u001b[A\n",
            " 89%|████████▉ | 19280/21578 [00:42<00:04, 498.01it/s]\u001b[A\n",
            " 90%|████████▉ | 19332/21578 [00:42<00:04, 497.65it/s]\u001b[A\n",
            " 90%|████████▉ | 19383/21578 [00:42<00:04, 481.99it/s]\u001b[A\n",
            " 90%|█████████ | 19433/21578 [00:42<00:04, 467.63it/s]\u001b[A\n",
            " 90%|█████████ | 19488/21578 [00:42<00:04, 487.92it/s]\u001b[A\n",
            " 91%|█████████ | 19538/21578 [00:42<00:04, 429.79it/s]\u001b[A\n",
            " 91%|█████████ | 19583/21578 [00:42<00:04, 410.35it/s]\u001b[A\n",
            " 91%|█████████ | 19626/21578 [00:43<00:04, 407.08it/s]\u001b[A\n",
            " 91%|█████████ | 19683/21578 [00:43<00:04, 439.91it/s]\u001b[A\n",
            " 91%|█████████▏| 19739/21578 [00:43<00:03, 468.49it/s]\u001b[A\n",
            " 92%|█████████▏| 19796/21578 [00:43<00:03, 494.55it/s]\u001b[A\n",
            " 92%|█████████▏| 19847/21578 [00:43<00:03, 487.21it/s]\u001b[A\n",
            " 92%|█████████▏| 19897/21578 [00:43<00:03, 472.86it/s]\u001b[A\n",
            " 92%|█████████▏| 19948/21578 [00:43<00:03, 480.77it/s]\u001b[A\n",
            " 93%|█████████▎| 19999/21578 [00:43<00:03, 487.89it/s]\u001b[A\n",
            " 93%|█████████▎| 20049/21578 [00:43<00:03, 472.83it/s]\u001b[A\n",
            " 93%|█████████▎| 20114/21578 [00:44<00:02, 513.70it/s]\u001b[A\n",
            " 94%|█████████▎| 20202/21578 [00:44<00:02, 586.76it/s]\u001b[A\n",
            " 94%|█████████▍| 20266/21578 [00:44<00:02, 595.40it/s]\u001b[A\n",
            " 94%|█████████▍| 20335/21578 [00:44<00:02, 620.64it/s]\u001b[A\n",
            " 95%|█████████▍| 20414/21578 [00:44<00:01, 662.70it/s]\u001b[A\n",
            " 95%|█████████▍| 20483/21578 [00:44<00:01, 649.45it/s]\u001b[A\n",
            " 95%|█████████▌| 20550/21578 [00:44<00:01, 638.60it/s]\u001b[A\n",
            " 96%|█████████▌| 20629/21578 [00:44<00:01, 676.29it/s]\u001b[A\n",
            " 96%|█████████▌| 20704/21578 [00:44<00:01, 694.47it/s]\u001b[A\n",
            " 96%|█████████▋| 20775/21578 [00:45<00:01, 612.83it/s]\u001b[A\n",
            " 97%|█████████▋| 20839/21578 [00:45<00:01, 600.75it/s]\u001b[A\n",
            " 97%|█████████▋| 20901/21578 [00:45<00:01, 538.27it/s]\u001b[A\n",
            " 97%|█████████▋| 20963/21578 [00:45<00:01, 559.92it/s]\u001b[A\n",
            " 97%|█████████▋| 21021/21578 [00:45<00:01, 554.28it/s]\u001b[A\n",
            " 98%|█████████▊| 21098/21578 [00:45<00:00, 605.00it/s]\u001b[A\n",
            " 98%|█████████▊| 21161/21578 [00:45<00:00, 605.19it/s]\u001b[A\n",
            " 98%|█████████▊| 21241/21578 [00:45<00:00, 652.84it/s]\u001b[A\n",
            " 99%|█████████▉| 21309/21578 [00:45<00:00, 632.57it/s]\u001b[A\n",
            " 99%|█████████▉| 21374/21578 [00:46<00:00, 614.21it/s]\u001b[A\n",
            " 99%|█████████▉| 21437/21578 [00:46<00:00, 608.34it/s]\u001b[A\n",
            "100%|█████████▉| 21500/21578 [00:46<00:00, 609.77it/s]\u001b[A\n",
            "100%|██████████| 21578/21578 [00:46<00:00, 464.95it/s]\n"
          ],
          "name": "stderr"
        }
      ]
    },
    {
      "cell_type": "code",
      "metadata": {
        "colab": {
          "base_uri": "https://localhost:8080/"
        },
        "id": "pMbCgDKX_iqR",
        "outputId": "6afbe813-1b31-4051-ecff-1ddac79b16fb"
      },
      "source": [
        "type(totalY)"
      ],
      "execution_count": null,
      "outputs": [
        {
          "output_type": "execute_result",
          "data": {
            "text/plain": [
              "numpy.ndarray"
            ]
          },
          "metadata": {
            "tags": []
          },
          "execution_count": 52
        }
      ]
    },
    {
      "cell_type": "code",
      "metadata": {
        "id": "iRFsSKsEVNnu"
      },
      "source": [],
      "execution_count": null,
      "outputs": []
    },
    {
      "cell_type": "markdown",
      "metadata": {
        "id": "rkvusHsiVRnV"
      },
      "source": [
        "# Split Data"
      ]
    },
    {
      "cell_type": "code",
      "metadata": {
        "id": "e_FKfi1x_K9b"
      },
      "source": [
        "from sklearn.model_selection import train_test_split\n",
        "\n",
        "\n",
        "train_inputs, validation_inputs, train_labels, validation_labels = train_test_split(input_ids, totalY, random_state=0, test_size=0.2)\n",
        "train_masks, validation_masks, _, _ = train_test_split(attention_masks, totalY, random_state=0, test_size=0.2)\n",
        "\n",
        "train_size = len(train_inputs)\n",
        "validation_size = len(validation_inputs)"
      ],
      "execution_count": null,
      "outputs": []
    },
    {
      "cell_type": "code",
      "metadata": {
        "colab": {
          "base_uri": "https://localhost:8080/"
        },
        "id": "9aLjoZVP8R8Z",
        "outputId": "9330f46c-41f7-438f-d3a9-df341090c0e0"
      },
      "source": [
        "train_masks.shape"
      ],
      "execution_count": null,
      "outputs": [
        {
          "output_type": "execute_result",
          "data": {
            "text/plain": [
              "(17262, 150)"
            ]
          },
          "metadata": {
            "tags": []
          },
          "execution_count": 25
        }
      ]
    },
    {
      "cell_type": "code",
      "metadata": {
        "id": "V0610D5x_xdA"
      },
      "source": [
        "BATCH_SIZE = 16\n",
        "NR_EPOCHS = 4"
      ],
      "execution_count": null,
      "outputs": []
    },
    {
      "cell_type": "code",
      "metadata": {
        "id": "v6qisjmMAGVs"
      },
      "source": [
        "\n"
      ],
      "execution_count": null,
      "outputs": []
    },
    {
      "cell_type": "markdown",
      "metadata": {
        "id": "gFJIY1eHVh4V"
      },
      "source": [
        "# Model_build"
      ]
    },
    {
      "cell_type": "code",
      "metadata": {
        "colab": {
          "base_uri": "https://localhost:8080/"
        },
        "id": "PGwjsdUyAAFX",
        "outputId": "f0d88253-cc0c-4f08-cdfe-ed579b134362"
      },
      "source": [
        "import tensorflow as tf\n",
        "from transformers import TFDistilBertModel\n",
        "from tensorflow.keras.layers import Dense, Flatten,Dropout\n",
        "\n",
        "class DistilBertClassifier(tf.keras.Model):    \n",
        "    def __init__(self, distilbert: TFDistilBertModel, num_classes: int):\n",
        "        super().__init__()\n",
        "        self.distilbert = distilbert\n",
        "        self.classifier1=Dense(150, activation='relu')\n",
        "        self.classifier2=Dense(100, activation='relu')\n",
        "        self.classifier = Dense(num_classes, activation='sigmoid')\n",
        "        \n",
        "    @tf.function\n",
        "    def call(self, input_ids, attention_mask=None, token_type_ids=None, position_ids=None, head_mask=None):\n",
        "        outputs = self.distilbert.distilbert(input_ids,\n",
        "                               attention_mask=attention_mask,\n",
        "                               head_mask=head_mask)\n",
        "        cls_output = outputs[0][:,0,:]\n",
        "        cls_output=Dropout(.3)(cls_output)\n",
        "        cls_output = self.classifier1(cls_output)\n",
        "       \n",
        "        # cls_output=Dropout(.1)(cls_output)\n",
        "        # cls_output = self.classifier2(cls_output)\n",
        "       \n",
        "        cls_output=Dropout(.2)(cls_output)\n",
        "        cls_output = self.classifier(cls_output)\n",
        "                \n",
        "        return cls_output\n",
        "\n",
        "model = DistilBertClassifier(TFDistilBertModel.from_pretrained(distilbert_model_name), 20)"
      ],
      "execution_count": null,
      "outputs": [
        {
          "output_type": "stream",
          "text": [
            "Some layers from the model checkpoint at distilbert-base-uncased were not used when initializing TFDistilBertModel: ['vocab_projector', 'activation_13', 'vocab_layer_norm', 'vocab_transform']\n",
            "- This IS expected if you are initializing TFDistilBertModel from the checkpoint of a model trained on another task or with another architecture (e.g. initializing a BertForSequenceClassification model from a BertForPreTraining model).\n",
            "- This IS NOT expected if you are initializing TFDistilBertModel from the checkpoint of a model that you expect to be exactly identical (initializing a BertForSequenceClassification model from a BertForSequenceClassification model).\n",
            "All the layers of TFDistilBertModel were initialized from the model checkpoint at distilbert-base-uncased.\n",
            "If your task is similar to the task the model of the checkpoint was trained on, you can already use TFDistilBertModel for predictions without further training.\n"
          ],
          "name": "stderr"
        }
      ]
    },
    {
      "cell_type": "markdown",
      "metadata": {
        "id": "A7s-k6bRVoPb"
      },
      "source": []
    },
    {
      "cell_type": "code",
      "metadata": {
        "id": "ojrPsV0nAYkf"
      },
      "source": [
        "from tensorflow.keras.optimizers import Adam\n",
        "\n",
        "# Set an optimizer\n",
        "optimizer = Adam(\n",
        "    learning_rate=5e-05,\n",
        "    epsilon=1e-08,\n",
        "    decay=0.01,\n",
        "    clipnorm=1.0)\n",
        "\n",
        "loss_object = tf.keras.losses.BinaryCrossentropy(from_logits=False)\n",
        "train_auc_metrics = tf.keras.metrics.AUC()\n",
        "train_precision_metrics = tf.keras.metrics.Precision()\n",
        "\n",
        "# Compile the model\n",
        "model.compile(\n",
        "    optimizer = optimizer,\n",
        "    loss = loss_object, \n",
        "    metrics = [\"accuracy\", train_precision_metrics,f1_m])"
      ],
      "execution_count": null,
      "outputs": []
    },
    {
      "cell_type": "code",
      "metadata": {
        "id": "JtNag36VA1Ue"
      },
      "source": [
        "t_labels = tf.dtypes.cast(train_labels, tf.float32)\n",
        "val_labels = tf.dtypes.cast(validation_labels, tf.float32)"
      ],
      "execution_count": null,
      "outputs": []
    },
    {
      "cell_type": "markdown",
      "metadata": {
        "id": "W2-LgKhLVt1D"
      },
      "source": [
        "# Fit the model"
      ]
    },
    {
      "cell_type": "code",
      "metadata": {
        "colab": {
          "base_uri": "https://localhost:8080/"
        },
        "id": "lidqCuj5A7pQ",
        "outputId": "270b8733-fea1-4492-b10a-d3c9b99f8ab6"
      },
      "source": [
        "model.fit((train_inputs, train_masks), t_labels, epochs=NR_EPOCHS, batch_size=BATCH_SIZE, steps_per_epoch=train_size//BATCH_SIZE, validation_data=((validation_inputs, validation_masks), val_labels))"
      ],
      "execution_count": null,
      "outputs": [
        {
          "output_type": "stream",
          "text": [
            "Epoch 1/4\n",
            "1078/1078 [==============================] - 342s 309ms/step - loss: 0.1416 - accuracy: 0.6310 - precision_3: 0.7534 - f1_m: 0.6574 - val_loss: 0.0659 - val_accuracy: 0.6840 - val_precision_3: 0.9009 - val_f1_m: 0.8419\n",
            "Epoch 2/4\n",
            "1078/1078 [==============================] - 332s 308ms/step - loss: 0.0599 - accuracy: 0.6866 - precision_3: 0.9049 - f1_m: 0.8621 - val_loss: 0.0570 - val_accuracy: 0.6636 - val_precision_3: 0.9014 - val_f1_m: 0.8689\n",
            "Epoch 3/4\n",
            "1078/1078 [==============================] - 332s 308ms/step - loss: 0.0526 - accuracy: 0.6853 - precision_3: 0.9115 - f1_m: 0.8806 - val_loss: 0.0547 - val_accuracy: 0.6446 - val_precision_3: 0.9110 - val_f1_m: 0.8754\n",
            "Epoch 4/4\n",
            "1078/1078 [==============================] - 332s 308ms/step - loss: 0.0476 - accuracy: 0.6782 - precision_3: 0.9224 - f1_m: 0.8942 - val_loss: 0.0533 - val_accuracy: 0.6946 - val_precision_3: 0.9157 - val_f1_m: 0.8781\n"
          ],
          "name": "stdout"
        },
        {
          "output_type": "execute_result",
          "data": {
            "text/plain": [
              "<tensorflow.python.keras.callbacks.History at 0x7f751577f080>"
            ]
          },
          "metadata": {
            "tags": []
          },
          "execution_count": 42
        }
      ]
    },
    {
      "cell_type": "code",
      "metadata": {
        "id": "A0mJJjjfBAZf"
      },
      "source": [],
      "execution_count": null,
      "outputs": []
    }
  ]
}